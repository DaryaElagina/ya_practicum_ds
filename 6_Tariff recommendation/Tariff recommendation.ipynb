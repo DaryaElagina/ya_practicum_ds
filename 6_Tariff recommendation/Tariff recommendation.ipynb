{
 "cells": [
  {
   "cell_type": "markdown",
   "metadata": {},
   "source": [
    "# Рекомендация тарифов для пользователей"
   ]
  },
  {
   "cell_type": "markdown",
   "metadata": {},
   "source": [
    "[Изучение общей информации](#Изучение-общей-информации)\n",
    "\n",
    "[Деление данных на выборки](#Деление-данных-на-выборки)\n",
    "\n",
    "[Исследование моделей](#Исследование-моделей)\n",
    "\n",
    "[Проверка моделей на тестовой выборке](#Проверка-моделей-на-тестовой-выборке)\n",
    "\n",
    "[Проверка модели на адекватность](#Проверка-модели-на-адекватность)\n"
   ]
  },
  {
   "cell_type": "markdown",
   "metadata": {},
   "source": [
    "# Изучение общей информации"
   ]
  },
  {
   "cell_type": "code",
   "execution_count": 1,
   "metadata": {},
   "outputs": [
    {
     "name": "stdout",
     "output_type": "stream",
     "text": [
      "      calls  minutes  messages   mb_used  is_ultra\n",
      "0      40.0   311.90      83.0  19915.42         0\n",
      "1      85.0   516.75      56.0  22696.96         0\n",
      "2      77.0   467.66      86.0  21060.45         0\n",
      "3     106.0   745.53      81.0   8437.39         1\n",
      "4      66.0   418.74       1.0  14502.75         0\n",
      "...     ...      ...       ...       ...       ...\n",
      "3209  122.0   910.98      20.0  35124.90         1\n",
      "3210   25.0   190.36       0.0   3275.61         0\n",
      "3211   97.0   634.44      70.0  13974.06         0\n",
      "3212   64.0   462.32      90.0  31239.78         0\n",
      "3213   80.0   566.09       6.0  29480.52         1\n",
      "\n",
      "[3214 rows x 5 columns]\n",
      "<class 'pandas.core.frame.DataFrame'>\n",
      "RangeIndex: 3214 entries, 0 to 3213\n",
      "Data columns (total 5 columns):\n",
      "calls       3214 non-null float64\n",
      "minutes     3214 non-null float64\n",
      "messages    3214 non-null float64\n",
      "mb_used     3214 non-null float64\n",
      "is_ultra    3214 non-null int64\n",
      "dtypes: float64(4), int64(1)\n",
      "memory usage: 125.7 KB\n",
      "None\n",
      "==============================\n"
     ]
    }
   ],
   "source": [
    "import pandas as pd\n",
    "from sklearn.tree import DecisionTreeClassifier\n",
    "from sklearn.ensemble import RandomForestClassifier\n",
    "from sklearn.linear_model import LogisticRegression\n",
    "from sklearn.model_selection import train_test_split\n",
    "\n",
    "df = pd.read_csv('/datasets/users_behavior.csv')\n",
    "print(df)\n",
    "print(df.info())\n",
    "print('==============================')\n",
    "\n",
    "def info(df): # Функция пробегает по признакам датафрейма и оценивает распределение\n",
    "\n",
    "    for column in df.columns:       \n",
    "            import plotly.express as px\n",
    "            print(df[column].describe())\n",
    "            fig = px.histogram(df, x = column, marginal = 'box', title = 'Распределение '+ column)\n",
    "            fig.show()\n",
    "            \n",
    "#info(df)"
   ]
  },
  {
   "cell_type": "markdown",
   "metadata": {},
   "source": [
    "### Вывод"
   ]
  },
  {
   "cell_type": "markdown",
   "metadata": {},
   "source": [
    "Таблица открыта и изучена. Таблица имеет 3214 строк и 5 столбцов. Использование метода describe() и построение гистограмм позволило нам оценить распределение некоторых признаков и увидеть аномалии."
   ]
  },
  {
   "cell_type": "markdown",
   "metadata": {},
   "source": [
    "# Деление данных на выборки"
   ]
  },
  {
   "cell_type": "code",
   "execution_count": 2,
   "metadata": {},
   "outputs": [],
   "source": [
    "df_train, df_temp = train_test_split(df, test_size = 0.4, random_state=12345) # Разбили исходный df на промежуточно_тестовую 60% и промежуточно_валидационную 40%\n",
    "df_valid, df_test = train_test_split(df_temp, test_size = 0.5, random_state=12345) # Разбили промежуточно_валидационную на тестовую и валидационную \n",
    "\n",
    "features_train = df_train.drop(['is_ultra'], axis=1)\n",
    "target_train = df_train['is_ultra']\n",
    "\n",
    "features_valid = df_valid.drop(['is_ultra'], axis=1)\n",
    "target_valid = df_valid['is_ultra']\n",
    "\n",
    "features_test = df_test.drop(['is_ultra'], axis=1)\n",
    "target_test = df_test['is_ultra']"
   ]
  },
  {
   "cell_type": "markdown",
   "metadata": {},
   "source": [
    "# Исследование моделей"
   ]
  },
  {
   "cell_type": "code",
   "execution_count": 3,
   "metadata": {},
   "outputs": [
    {
     "name": "stdout",
     "output_type": "stream",
     "text": [
      "Глубина дерева: 3\n",
      "0.7853810264385692\n"
     ]
    }
   ],
   "source": [
    "# Дерево решений\n",
    "from sklearn.metrics import accuracy_score\n",
    "\n",
    "result_tree = 0\n",
    "tree_depth = 0\n",
    "\n",
    "for depth in range(1, 10):\n",
    "    model_tree = DecisionTreeClassifier(random_state=12345, max_depth=depth)\n",
    "    # инициализировали модель DecisionTreeClassifier с параметром random_state=12345 и max_depth=depth\n",
    "    model_tree.fit(features_train, target_train) # обучите модель на тренировочной выборке\n",
    "    predictions_valid = model_tree.predict(features_valid) # получите предсказания модели на валидационной выборке\n",
    "    accuracy_tree = accuracy_score(target_valid, predictions_valid)\n",
    "    #result = mean_squared_error(target_valid, predictions_valid)**0.5 # посчитайте значение метрики rmse на валидационной выборке\n",
    "    if accuracy_tree > result_tree:\n",
    "        result_tree = accuracy_tree\n",
    "        tree_depth = depth\n",
    "\n",
    "print(\"Глубина дерева:\", tree_depth)\n",
    "print(result_tree)"
   ]
  },
  {
   "cell_type": "code",
   "execution_count": 4,
   "metadata": {},
   "outputs": [
    {
     "name": "stdout",
     "output_type": "stream",
     "text": [
      "Количество деревьев: 6\n",
      "Accuracy наилучшей модели на валидационной выборке: 0.7962674961119751\n"
     ]
    }
   ],
   "source": [
    "# Cлучайный лес\n",
    "\n",
    "result_forest = 0\n",
    "estimators = 0\n",
    "\n",
    "for n in range(1, 11):\n",
    "    model_forest = RandomForestClassifier(random_state=12345, n_estimators = n, min_samples_leaf = n) # инициализируем модель с заданным количеством деревьев\n",
    "    model_forest.fit(features_train, target_train) # обучите модель на тренировочной выборке\n",
    "    result = model_forest.score(features_valid, target_valid) # посчитайте качество модели на валидационной выборке\n",
    "#     predictions_valid = model_forest.predict(features_valid) # получите предсказания модели на валидационной выборке\n",
    "#     accuracy_forest = accuracy_score(target_valid, predictions_valid)\n",
    "    if result > result_forest:\n",
    "        result_forest = result #  сохраните наилучшее значение метрики accuracy на валидационных данных\n",
    "        estimators = n\n",
    "        \n",
    "print(\"Количество деревьев:\", estimators)\n",
    "print(\"Accuracy наилучшей модели на валидационной выборке:\", result_forest)"
   ]
  },
  {
   "cell_type": "code",
   "execution_count": 5,
   "metadata": {},
   "outputs": [
    {
     "name": "stdout",
     "output_type": "stream",
     "text": [
      "0.7107309486780715\n"
     ]
    }
   ],
   "source": [
    "# Логистическая регрессия\n",
    "model_regression = LogisticRegression(solver='lbfgs', random_state=12345) # инициализируем модель LogisticRegression\n",
    "model_regression.fit(features_train, target_train) # обучите модель на тренировочной выборке\n",
    "result_regression = model_regression.score(features_valid, target_valid) # посчитайте качество модели на валидационной выборке\n",
    "print(result_regression)"
   ]
  },
  {
   "cell_type": "markdown",
   "metadata": {},
   "source": [
    "# Проверка моделей на тестовой выборке"
   ]
  },
  {
   "cell_type": "code",
   "execution_count": 6,
   "metadata": {},
   "outputs": [
    {
     "name": "stdout",
     "output_type": "stream",
     "text": [
      "0.7791601866251944\n"
     ]
    }
   ],
   "source": [
    "# Дерево решений\n",
    "model_tree = DecisionTreeClassifier(random_state=12345, max_depth=3)\n",
    "model_tree.fit(features_train, target_train)\n",
    "predictions_tree_test = model_tree.predict(features_test)\n",
    "accuracy_tree = accuracy_score(target_test, predictions_tree_test)\n",
    "print(accuracy_tree)"
   ]
  },
  {
   "cell_type": "code",
   "execution_count": 7,
   "metadata": {},
   "outputs": [
    {
     "name": "stdout",
     "output_type": "stream",
     "text": [
      "0.7931570762052877\n"
     ]
    }
   ],
   "source": [
    "# Cлучайный лес\n",
    "model_forest = RandomForestClassifier(random_state=12345, n_estimators = 6, min_samples_leaf = 6)\n",
    "model_forest.fit(features_train, target_train)\n",
    "predictions_forest_test = model_forest.predict(features_test)\n",
    "accuracy_forest = accuracy_score(target_test, predictions_forest_test)\n",
    "print(accuracy_forest)"
   ]
  },
  {
   "cell_type": "code",
   "execution_count": 8,
   "metadata": {},
   "outputs": [
    {
     "name": "stdout",
     "output_type": "stream",
     "text": [
      "0.6842923794712286\n"
     ]
    }
   ],
   "source": [
    "# Логистическая регрессия\n",
    "model_regression = LogisticRegression(solver='lbfgs', random_state=12345) # инициализируем модель LogisticRegression\n",
    "model_regression.fit(features_train, target_train) # обучите модель на тренировочной выборке\n",
    "model_regression_test = model_regression.predict(features_test)\n",
    "result_regression = accuracy_score(target_test, model_regression_test)\n",
    "print(result_regression)"
   ]
  },
  {
   "cell_type": "markdown",
   "metadata": {},
   "source": [
    "## Вывод"
   ]
  },
  {
   "cell_type": "markdown",
   "metadata": {},
   "source": [
    "Согласно проведенным исследованием и тестированию на тестовой выборке данных модель `случайный лес` с показателем качества `0.7931570762052877` является лучшей."
   ]
  },
  {
   "cell_type": "markdown",
   "metadata": {},
   "source": [
    "# Проверка модели на адекватность"
   ]
  },
  {
   "cell_type": "code",
   "execution_count": 9,
   "metadata": {},
   "outputs": [
    {
     "name": "stdout",
     "output_type": "stream",
     "text": [
      "Качество модели: 0.7931570762052877\n",
      "Качество рандомной модели: 0.5303265940902022\n"
     ]
    }
   ],
   "source": [
    "from sklearn.dummy import DummyClassifier\n",
    "model_forest = RandomForestClassifier(random_state=12345, n_estimators = 6, min_samples_leaf = 6)\n",
    "model_forest.fit(features_train, target_train)\n",
    "predictions_forest_test = model_forest.predict(features_test)\n",
    "accuracy_forest = accuracy_score(target_test, predictions_forest_test)\n",
    "print('Качество модели:', accuracy_forest)\n",
    "\n",
    "model_dummy = DummyClassifier(strategy='uniform', random_state=0)\n",
    "model_dummy.fit(features_train, target_train)\n",
    "predictions_dummy_test = model_dummy.predict(features_test)\n",
    "dummy_score = accuracy_score(target_test, predictions_dummy_test)\n",
    "print('Качество рандомной модели:', dummy_score)\n"
   ]
  },
  {
   "cell_type": "markdown",
   "metadata": {},
   "source": [
    "Качество нашей лучшей модели выше, чем у рандомной модели. Это позволяет нам думать, что она адекватна."
   ]
  }
 ],
 "metadata": {
  "ExecuteTimeLog": [
   {
    "duration": 1596,
    "start_time": "2021-07-30T15:30:38.046Z"
   },
   {
    "duration": 16,
    "start_time": "2021-07-30T15:30:39.645Z"
   },
   {
    "duration": 77,
    "start_time": "2021-07-30T15:30:39.664Z"
   },
   {
    "duration": 340,
    "start_time": "2021-07-30T15:30:39.744Z"
   },
   {
    "duration": 404,
    "start_time": "2021-07-30T15:30:40.086Z"
   },
   {
    "duration": 120,
    "start_time": "2021-07-30T15:30:40.373Z"
   },
   {
    "duration": 121,
    "start_time": "2021-07-30T15:30:40.374Z"
   },
   {
    "duration": 119,
    "start_time": "2021-07-30T15:30:40.377Z"
   },
   {
    "duration": 105,
    "start_time": "2021-07-30T15:30:40.393Z"
   },
   {
    "duration": 34,
    "start_time": "2021-07-30T15:32:21.365Z"
   },
   {
    "duration": 1328,
    "start_time": "2021-07-30T15:32:39.622Z"
   },
   {
    "duration": 22,
    "start_time": "2021-07-30T15:32:40.953Z"
   },
   {
    "duration": 71,
    "start_time": "2021-07-30T15:32:40.982Z"
   },
   {
    "duration": 332,
    "start_time": "2021-07-30T15:32:41.068Z"
   },
   {
    "duration": 30,
    "start_time": "2021-07-30T15:32:41.404Z"
   },
   {
    "duration": 33,
    "start_time": "2021-07-30T15:32:41.436Z"
   },
   {
    "duration": 46,
    "start_time": "2021-07-30T15:32:41.474Z"
   },
   {
    "duration": 56,
    "start_time": "2021-07-30T15:32:41.522Z"
   },
   {
    "duration": 43,
    "start_time": "2021-07-30T15:32:41.581Z"
   }
  ],
  "kernelspec": {
   "display_name": "Python 3",
   "language": "python",
   "name": "python3"
  },
  "language_info": {
   "codemirror_mode": {
    "name": "ipython",
    "version": 3
   },
   "file_extension": ".py",
   "mimetype": "text/x-python",
   "name": "python",
   "nbconvert_exporter": "python",
   "pygments_lexer": "ipython3",
   "version": "3.7.8"
  },
  "toc": {
   "base_numbering": 1,
   "nav_menu": {},
   "number_sections": true,
   "sideBar": true,
   "skip_h1_title": false,
   "title_cell": "Table of Contents",
   "title_sidebar": "Contents",
   "toc_cell": false,
   "toc_position": {},
   "toc_section_display": true,
   "toc_window_display": false
  }
 },
 "nbformat": 4,
 "nbformat_minor": 2
}
