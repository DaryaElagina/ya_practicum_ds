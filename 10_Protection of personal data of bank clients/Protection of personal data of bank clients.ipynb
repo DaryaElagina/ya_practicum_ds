{
 "cells": [
  {
   "cell_type": "markdown",
   "metadata": {},
   "source": [
    "# Защита персональных данных клиентов банка"
   ]
  },
  {
   "cell_type": "markdown",
   "metadata": {
    "toc": true
   },
   "source": [
    "<h1>Содержание<span class=\"tocSkip\"></span></h1>\n",
    "<div class=\"toc\"><ul class=\"toc-item\"><li><span><a href=\"#Загрузка-и-подготовка-данных\" data-toc-modified-id=\"Загрузка-и-подготовка-данных-1\"><span class=\"toc-item-num\">1&nbsp;&nbsp;</span>Загрузка и подготовка данных</a></span><ul class=\"toc-item\"><li><span><a href=\"#Вывод\" data-toc-modified-id=\"Вывод-1.1\"><span class=\"toc-item-num\">1.1&nbsp;&nbsp;</span>Вывод</a></span></li></ul></li><li><span><a href=\"#Умножение-матриц\" data-toc-modified-id=\"Умножение-матриц-2\"><span class=\"toc-item-num\">2&nbsp;&nbsp;</span>Умножение матриц</a></span></li><li><span><a href=\"#Алгоритм-преобразования\" data-toc-modified-id=\"Алгоритм-преобразования-3\"><span class=\"toc-item-num\">3&nbsp;&nbsp;</span>Алгоритм преобразования</a></span></li><li><span><a href=\"#Проверка-алгоритма\" data-toc-modified-id=\"Проверка-алгоритма-4\"><span class=\"toc-item-num\">4&nbsp;&nbsp;</span>Проверка алгоритма</a></span><ul class=\"toc-item\"><li><span><a href=\"#Вывод\" data-toc-modified-id=\"Вывод-4.1\"><span class=\"toc-item-num\">4.1&nbsp;&nbsp;</span>Вывод</a></span></li></ul></li><li><span><a href=\"#Чек-лист-проверки\" data-toc-modified-id=\"Чек-лист-проверки-5\"><span class=\"toc-item-num\">5&nbsp;&nbsp;</span>Чек-лист проверки</a></span></li></ul></div>"
   ]
  },
  {
   "cell_type": "markdown",
   "metadata": {},
   "source": [
    "## Загрузка и подготовка данных"
   ]
  },
  {
   "cell_type": "code",
   "execution_count": 1,
   "metadata": {},
   "outputs": [
    {
     "name": "stdout",
     "output_type": "stream",
     "text": [
      "      Пол  Возраст  Зарплата  Члены семьи  Страховые выплаты\n",
      "0       1     41.0   49600.0            1                  0\n",
      "1       0     46.0   38000.0            1                  1\n",
      "2       0     29.0   21000.0            0                  0\n",
      "3       0     21.0   41700.0            2                  0\n",
      "4       1     28.0   26100.0            0                  0\n",
      "...   ...      ...       ...          ...                ...\n",
      "4995    0     28.0   35700.0            2                  0\n",
      "4996    0     34.0   52400.0            1                  0\n",
      "4997    0     20.0   33900.0            2                  0\n",
      "4998    1     22.0   32700.0            3                  0\n",
      "4999    1     28.0   40600.0            1                  0\n",
      "\n",
      "[5000 rows x 5 columns]\n",
      "<class 'pandas.core.frame.DataFrame'>\n",
      "RangeIndex: 5000 entries, 0 to 4999\n",
      "Data columns (total 5 columns):\n",
      "Пол                  5000 non-null int64\n",
      "Возраст              5000 non-null float64\n",
      "Зарплата             5000 non-null float64\n",
      "Члены семьи          5000 non-null int64\n",
      "Страховые выплаты    5000 non-null int64\n",
      "dtypes: float64(2), int64(3)\n",
      "memory usage: 195.4 KB\n",
      "None\n"
     ]
    },
    {
     "data": {
      "text/html": [
       "<div>\n",
       "<style scoped>\n",
       "    .dataframe tbody tr th:only-of-type {\n",
       "        vertical-align: middle;\n",
       "    }\n",
       "\n",
       "    .dataframe tbody tr th {\n",
       "        vertical-align: top;\n",
       "    }\n",
       "\n",
       "    .dataframe thead th {\n",
       "        text-align: right;\n",
       "    }\n",
       "</style>\n",
       "<table border=\"1\" class=\"dataframe\">\n",
       "  <thead>\n",
       "    <tr style=\"text-align: right;\">\n",
       "      <th></th>\n",
       "      <th>Пол</th>\n",
       "      <th>Возраст</th>\n",
       "      <th>Зарплата</th>\n",
       "      <th>Члены семьи</th>\n",
       "      <th>Страховые выплаты</th>\n",
       "    </tr>\n",
       "  </thead>\n",
       "  <tbody>\n",
       "    <tr>\n",
       "      <td>count</td>\n",
       "      <td>5000.000000</td>\n",
       "      <td>5000.000000</td>\n",
       "      <td>5000.000000</td>\n",
       "      <td>5000.000000</td>\n",
       "      <td>5000.000000</td>\n",
       "    </tr>\n",
       "    <tr>\n",
       "      <td>mean</td>\n",
       "      <td>0.499000</td>\n",
       "      <td>30.952800</td>\n",
       "      <td>39916.360000</td>\n",
       "      <td>1.194200</td>\n",
       "      <td>0.148000</td>\n",
       "    </tr>\n",
       "    <tr>\n",
       "      <td>std</td>\n",
       "      <td>0.500049</td>\n",
       "      <td>8.440807</td>\n",
       "      <td>9900.083569</td>\n",
       "      <td>1.091387</td>\n",
       "      <td>0.463183</td>\n",
       "    </tr>\n",
       "    <tr>\n",
       "      <td>min</td>\n",
       "      <td>0.000000</td>\n",
       "      <td>18.000000</td>\n",
       "      <td>5300.000000</td>\n",
       "      <td>0.000000</td>\n",
       "      <td>0.000000</td>\n",
       "    </tr>\n",
       "    <tr>\n",
       "      <td>25%</td>\n",
       "      <td>0.000000</td>\n",
       "      <td>24.000000</td>\n",
       "      <td>33300.000000</td>\n",
       "      <td>0.000000</td>\n",
       "      <td>0.000000</td>\n",
       "    </tr>\n",
       "    <tr>\n",
       "      <td>50%</td>\n",
       "      <td>0.000000</td>\n",
       "      <td>30.000000</td>\n",
       "      <td>40200.000000</td>\n",
       "      <td>1.000000</td>\n",
       "      <td>0.000000</td>\n",
       "    </tr>\n",
       "    <tr>\n",
       "      <td>75%</td>\n",
       "      <td>1.000000</td>\n",
       "      <td>37.000000</td>\n",
       "      <td>46600.000000</td>\n",
       "      <td>2.000000</td>\n",
       "      <td>0.000000</td>\n",
       "    </tr>\n",
       "    <tr>\n",
       "      <td>max</td>\n",
       "      <td>1.000000</td>\n",
       "      <td>65.000000</td>\n",
       "      <td>79000.000000</td>\n",
       "      <td>6.000000</td>\n",
       "      <td>5.000000</td>\n",
       "    </tr>\n",
       "  </tbody>\n",
       "</table>\n",
       "</div>"
      ],
      "text/plain": [
       "               Пол      Возраст      Зарплата  Члены семьи  Страховые выплаты\n",
       "count  5000.000000  5000.000000   5000.000000  5000.000000        5000.000000\n",
       "mean      0.499000    30.952800  39916.360000     1.194200           0.148000\n",
       "std       0.500049     8.440807   9900.083569     1.091387           0.463183\n",
       "min       0.000000    18.000000   5300.000000     0.000000           0.000000\n",
       "25%       0.000000    24.000000  33300.000000     0.000000           0.000000\n",
       "50%       0.000000    30.000000  40200.000000     1.000000           0.000000\n",
       "75%       1.000000    37.000000  46600.000000     2.000000           0.000000\n",
       "max       1.000000    65.000000  79000.000000     6.000000           5.000000"
      ]
     },
     "execution_count": 1,
     "metadata": {},
     "output_type": "execute_result"
    }
   ],
   "source": [
    "import pandas as pd\n",
    "import numpy as np\n",
    "data = pd.read_csv('/datasets/insurance.csv')\n",
    "print(data)\n",
    "print(data.info())\n",
    "data.describe()"
   ]
  },
  {
   "cell_type": "code",
   "execution_count": 2,
   "metadata": {},
   "outputs": [
    {
     "name": "stdout",
     "output_type": "stream",
     "text": [
      "Пол                  0\n",
      "Возраст              0\n",
      "Зарплата             0\n",
      "Члены семьи          0\n",
      "Страховые выплаты    0\n",
      "dtype: int64\n",
      "==============================\n",
      "153\n",
      "==============================\n",
      "0\n"
     ]
    }
   ],
   "source": [
    "print(data.isnull().sum())\n",
    "print('==============================')\n",
    "print(data.duplicated().sum())\n",
    "data = data.drop_duplicates()\n",
    "print('==============================')\n",
    "print(data.duplicated().sum())"
   ]
  },
  {
   "cell_type": "markdown",
   "metadata": {},
   "source": [
    "### Вывод "
   ]
  },
  {
   "cell_type": "markdown",
   "metadata": {},
   "source": [
    "Таблица открыта и изучена. Таблица имеет 5000 строк и 5 столбцов. Пропущенных значений не обнаружено. Наидено 153 дубликата. Дубликаты удалены в виду незначительного количества. Посмотрели на распределение признаков."
   ]
  },
  {
   "cell_type": "markdown",
   "metadata": {},
   "source": [
    "## Умножение матриц"
   ]
  },
  {
   "cell_type": "markdown",
   "metadata": {},
   "source": [
    "Обозначения:\n",
    "\n",
    "- $X$ — матрица признаков (нулевой столбец состоит из единиц)\n",
    "\n",
    "- $X$~ — матрица признаков без единичного столбца\n",
    "\n",
    "- $y$ — вектор целевого признака\n",
    "\n",
    "- $P$ — матрица, на которую умножается матрица X\n",
    "\n",
    "- $P$~ — матрица, на которую умножается матрица X~\n",
    "\n",
    "- $w$ — вектор весов линейной регрессии (нулевой элемент равен сдвигу)"
   ]
  },
  {
   "cell_type": "markdown",
   "metadata": {},
   "source": [
    "Предсказания:\n",
    "\n",
    "$$\n",
    "a = Xw\n",
    "$$\n",
    "\n",
    "Задача обучения:\n",
    "\n",
    "$$\n",
    "w = \\arg\\min_w MSE(Xw, y)\n",
    "$$\n",
    "\n",
    "Формула обучения:\n",
    "\n",
    "$$\n",
    "w = (X^T X)^{-1} X^T y\n",
    "$$"
   ]
  },
  {
   "cell_type": "markdown",
   "metadata": {},
   "source": [
    "**Ответ:** Если домножить вектор признаков на обратимую матрицу $P$, размером m x m, где m - число признаков +1, то качество обучения линейной регрессии не изменится. \n",
    "\n",
    "**Обоснование:** \n",
    "Домножим матрицу $X$ размером n x m на обратимую матрицу $P$, размером m x m,где m - число признаков +1, n - число записей. Преобразуем выражение, учитывая, что обратные матрицы есть только для квадратных матриц: \n",
    "$((XP)^TXP)^{-1}(XP)^T = (P^TX^TXP)^{-1}P^TX^T = (X^TXP)^{-1}(P^T)^{-1}P^TX^T = P^{-1}(X^TX)^{-1}EX^T = P^{-1}(X^TX)^{-1}X^T$\n",
    "\n",
    "Получим новый вектор весов:\n",
    "$𝑤` = P^{-1}(X^TX)^{-1}X^Ty = P^{-1}𝑤 $ "
   ]
  },
  {
   "cell_type": "markdown",
   "metadata": {},
   "source": [
    "## Алгоритм преобразования"
   ]
  },
  {
   "cell_type": "markdown",
   "metadata": {},
   "source": [
    "**Алгоритм**\n",
    "\n",
    "1) Сгенерируем с помощью библиотеки random модуля numpy случайную квадратную матрицу P с размером на единицу большим, чем число признаков features, с элементами равномерно распределенными между 0 и 1.\n",
    "\n",
    "2) С помощью numpy умножим справа матрицу признаков Х (с присоединенным слева единичным столбцом) на случайную матрицу Р."
   ]
  },
  {
   "cell_type": "markdown",
   "metadata": {},
   "source": [
    "**Обоснование**\n",
    "\n",
    "Как мы показали выше умножение матрицы признаков с присоединённым столбцом из единиц (столбец ответственный за свободный член) на обратимую матрицу справа не должно сказаться на результатах работы модели линейной регрессии."
   ]
  },
  {
   "cell_type": "markdown",
   "metadata": {},
   "source": [
    "## Проверка алгоритма"
   ]
  },
  {
   "cell_type": "code",
   "execution_count": 3,
   "metadata": {},
   "outputs": [],
   "source": [
    "from sklearn.linear_model import LinearRegression\n",
    "from sklearn.model_selection import train_test_split\n",
    "from sklearn.metrics import r2_score\n",
    "from numpy.linalg import inv\n",
    "import sklearn.metrics as skmt"
   ]
  },
  {
   "cell_type": "code",
   "execution_count": 4,
   "metadata": {},
   "outputs": [],
   "source": [
    "def fitModel(features, target):\n",
    "    features_matrix = np.array(features) # матрица признаков\n",
    "    target_vector = np.array(target).reshape(target.shape[0],1) # вектор целевого признака\n",
    "    # Инвертируем матрицу чтобы проверить гипотезу\n",
    "    return (inv(features_matrix.T @ features_matrix) @ features_matrix.T @ target_vector).reshape(-1, order = 'F')\n",
    "\n",
    "def predictModel(coef, features):\n",
    "    return np.array(features) @ coef.reshape(-1, order = 'F')    "
   ]
  },
  {
   "cell_type": "code",
   "execution_count": 5,
   "metadata": {},
   "outputs": [],
   "source": [
    "target = data['Страховые выплаты']\n",
    "features = data.drop(['Страховые выплаты'] , axis=1)\n",
    "features_train, features_test, target_train, target_test = train_test_split(features, target, test_size=0.25, random_state=12345)\n",
    "\n",
    "# Присоединим слева к матрице значений признаков (features_matrix) столбец из единиц\n",
    "features_train_free = features_train.copy()\n",
    "features_train_free['free'] = np.ones(len(features_train))\n",
    "cols = features_train_free.columns[-1:].append(features_train_free.columns[:-1])\n",
    "features_train_free = features_train_free[cols].copy()"
   ]
  },
  {
   "cell_type": "code",
   "execution_count": 6,
   "metadata": {},
   "outputs": [],
   "source": [
    "features_test_free = features_test.copy()\n",
    "features_test_free['free'] = np.ones(len(features_test))\n",
    "cols = features_test_free.columns[-1:].append(features_test_free.columns[:-1])\n",
    "features_test_free = features_test_free[cols].copy()"
   ]
  },
  {
   "cell_type": "code",
   "execution_count": 7,
   "metadata": {},
   "outputs": [
    {
     "name": "stdout",
     "output_type": "stream",
     "text": [
      "Качество линейной регрессии нашей модели 0.4230772749214827\n",
      "Коэффициенты регрессии (веса) [-9.76709597e-01  1.45766002e-02  3.64782926e-02  1.79477716e-07\n",
      " -1.23345013e-02]\n"
     ]
    }
   ],
   "source": [
    "# Найдем решение матричного уравнения линейной регрессии\n",
    "myModelCoef = fitModel(features_train_free, target_train)\n",
    "myModelPredictions = predictModel(myModelCoef, features_test_free)\n",
    "myModelR2 = skmt.r2_score(target_test, myModelPredictions)\n",
    "print(\"Качество линейной регрессии нашей модели\",myModelR2)\n",
    "print(\"Коэффициенты регрессии (веса)\", myModelCoef)"
   ]
  },
  {
   "cell_type": "code",
   "execution_count": 8,
   "metadata": {},
   "outputs": [
    {
     "name": "stdout",
     "output_type": "stream",
     "text": [
      "Качество линейной регрессии библиотечной модели 0.42307727492148095\n",
      "Коэффициенты регрессии (веса) [ 0.00000000e+00  1.45766002e-02  3.64782926e-02  1.79477716e-07\n",
      " -1.23345013e-02]\n"
     ]
    }
   ],
   "source": [
    "# Найдем решение библиотечной модели линейной регрессии\n",
    "model = LinearRegression()\n",
    "model.fit(features_train_free, target_train)\n",
    "predicts = model.predict(features_test_free) # получаем предсказания модели на тестовой выборке    \n",
    "r2 = r2_score(target_test, predicts)\n",
    "print(\"Качество линейной регрессии библиотечной модели\", r2)\n",
    "print(\"Коэффициенты регрессии (веса)\", model.coef_)"
   ]
  },
  {
   "cell_type": "markdown",
   "metadata": {},
   "source": [
    "Результаты работы библиотечной модели совпали с результатами работы нашей модели."
   ]
  },
  {
   "cell_type": "code",
   "execution_count": 9,
   "metadata": {},
   "outputs": [
    {
     "name": "stdout",
     "output_type": "stream",
     "text": [
      "Обратима ли матрица: True\n"
     ]
    }
   ],
   "source": [
    "# Сгенерируем случайную матрицу соответствующей размерности и проверим на обратимость\n",
    "randomGeneratorContainer = np.random.RandomState(10)\n",
    "P1 = randomGeneratorContainer.rand(len(features_train_free.columns), len(features_train_free.columns))\n",
    "determinant = np.linalg.det(P1)\n",
    "print('Обратима ли матрица:', determinant < 10**(-4))\n",
    "\n",
    "features_train_encrypted = features_train_free @ P1\n",
    "features_test_encrypted = features_test_free @ P1"
   ]
  },
  {
   "cell_type": "code",
   "execution_count": 10,
   "metadata": {},
   "outputs": [
    {
     "name": "stdout",
     "output_type": "stream",
     "text": [
      "Качество линейной регрессии нашей модели 0.42353344551185634\n",
      "Коэффициенты регрессии (веса) [-30.46647435 -13.60668473   8.97378069  -8.35791029  46.92805086]\n"
     ]
    }
   ],
   "source": [
    "myModelCoef = fitModel(features_train_encrypted, target_train)\n",
    "myModelPredictions = predictModel(myModelCoef, features_test_encrypted)\n",
    "myModelR2 = skmt.r2_score(target_test, myModelPredictions)\n",
    "print(\"Качество линейной регрессии нашей модели\",myModelR2)\n",
    "print(\"Коэффициенты регрессии (веса)\", myModelCoef)"
   ]
  },
  {
   "cell_type": "code",
   "execution_count": 11,
   "metadata": {},
   "outputs": [
    {
     "name": "stdout",
     "output_type": "stream",
     "text": [
      "Обратима ли матрица: True\n"
     ]
    }
   ],
   "source": [
    "# Для библиотечной модели не требуется добавлять к ней единичный столбец\n",
    "# и соответственно матрица преобразования также меньше размером на единицу.\n",
    "randomGeneratorContainer = np.random.RandomState(10)\n",
    "P2 = randomGeneratorContainer.rand(len(features_train.columns), len(features_train.columns))\n",
    "determinant2 = np.linalg.det(P1)\n",
    "print('Обратима ли матрица:', determinant2 < 10**(-4))\n",
    "\n",
    "features_train_encrypted2 = features_train @ P2\n",
    "features_test_encrypted2 = features_test @ P2"
   ]
  },
  {
   "cell_type": "code",
   "execution_count": 12,
   "metadata": {},
   "outputs": [
    {
     "name": "stdout",
     "output_type": "stream",
     "text": [
      "Качество линейной регрессии библиотечной модели 0.4230772749208499\n",
      "Коэффициенты регрессии (веса) [ 0.03351282  0.02759341 -0.05746163  0.03280608]\n"
     ]
    }
   ],
   "source": [
    "model = LinearRegression()\n",
    "model.fit(features_train_encrypted2, target_train)\n",
    "predicts = model.predict(features_test_encrypted2)     \n",
    "r2 = r2_score(target_test, predicts)\n",
    "print(\"Качество линейной регрессии библиотечной модели\", r2)\n",
    "print(\"Коэффициенты регрессии (веса)\", model.coef_)"
   ]
  },
  {
   "cell_type": "markdown",
   "metadata": {},
   "source": [
    "### Вывод "
   ]
  },
  {
   "cell_type": "markdown",
   "metadata": {},
   "source": [
    "* Предложенный нами алгоритм преобразования данных проверен на работоспособность.\n",
    "* Наше преобразование исходной матрицы значений признаков не повлияло на качество работы модели."
   ]
  }
 ],
 "metadata": {
  "ExecuteTimeLog": [
   {
    "duration": 890,
    "start_time": "2021-08-02T12:58:07.129Z"
   },
   {
    "duration": 15,
    "start_time": "2021-08-02T12:58:08.022Z"
   },
   {
    "duration": 627,
    "start_time": "2021-08-02T12:58:08.040Z"
   },
   {
    "duration": 6,
    "start_time": "2021-08-02T12:58:08.670Z"
   },
   {
    "duration": 21,
    "start_time": "2021-08-02T12:58:08.679Z"
   },
   {
    "duration": 12,
    "start_time": "2021-08-02T12:58:08.702Z"
   },
   {
    "duration": 40,
    "start_time": "2021-08-02T12:58:08.716Z"
   },
   {
    "duration": 111,
    "start_time": "2021-08-02T12:58:08.760Z"
   },
   {
    "duration": 10,
    "start_time": "2021-08-02T12:58:08.875Z"
   },
   {
    "duration": 16,
    "start_time": "2021-08-02T12:58:08.888Z"
   },
   {
    "duration": 12,
    "start_time": "2021-08-02T12:58:08.957Z"
   },
   {
    "duration": 103,
    "start_time": "2021-08-02T12:58:08.974Z"
   }
  ],
  "kernelspec": {
   "display_name": "Python 3",
   "language": "python",
   "name": "python3"
  },
  "language_info": {
   "codemirror_mode": {
    "name": "ipython",
    "version": 3
   },
   "file_extension": ".py",
   "mimetype": "text/x-python",
   "name": "python",
   "nbconvert_exporter": "python",
   "pygments_lexer": "ipython3",
   "version": "3.7.8"
  },
  "toc": {
   "base_numbering": 1,
   "nav_menu": {},
   "number_sections": true,
   "sideBar": true,
   "skip_h1_title": true,
   "title_cell": "Содержание",
   "title_sidebar": "Contents",
   "toc_cell": true,
   "toc_position": {
    "height": "calc(100% - 180px)",
    "left": "10px",
    "top": "150px",
    "width": "165px"
   },
   "toc_section_display": true,
   "toc_window_display": false
  }
 },
 "nbformat": 4,
 "nbformat_minor": 2
}
