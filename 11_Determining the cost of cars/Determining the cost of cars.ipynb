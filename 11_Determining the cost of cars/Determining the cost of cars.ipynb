{
 "cells": [
  {
   "cell_type": "markdown",
   "metadata": {},
   "source": [
    "# Определение стоимости автомобилей"
   ]
  },
  {
   "cell_type": "markdown",
   "metadata": {},
   "source": [
    "[Загрузка и подготовка данных](#Загрузка-и-подготовка-данных)\n",
    "\n",
    "[Обучение моделей](#Обучение-моделей)\n",
    "\n",
    "[Анализ моделей](#Анализ-моделей)"
   ]
  },
  {
   "cell_type": "markdown",
   "metadata": {},
   "source": [
    "# Загрузка и подготовка данных"
   ]
  },
  {
   "cell_type": "code",
   "execution_count": 1,
   "metadata": {},
   "outputs": [
    {
     "name": "stdout",
     "output_type": "stream",
     "text": [
      "<class 'pandas.core.frame.DataFrame'>\n",
      "RangeIndex: 354369 entries, 0 to 354368\n",
      "Data columns (total 16 columns):\n",
      "DateCrawled          354369 non-null object\n",
      "Price                354369 non-null int64\n",
      "VehicleType          316879 non-null object\n",
      "RegistrationYear     354369 non-null int64\n",
      "Gearbox              334536 non-null object\n",
      "Power                354369 non-null int64\n",
      "Model                334664 non-null object\n",
      "Kilometer            354369 non-null int64\n",
      "RegistrationMonth    354369 non-null int64\n",
      "FuelType             321474 non-null object\n",
      "Brand                354369 non-null object\n",
      "NotRepaired          283215 non-null object\n",
      "DateCreated          354369 non-null object\n",
      "NumberOfPictures     354369 non-null int64\n",
      "PostalCode           354369 non-null int64\n",
      "LastSeen             354369 non-null object\n",
      "dtypes: int64(7), object(9)\n",
      "memory usage: 43.3+ MB\n"
     ]
    },
    {
     "data": {
      "text/plain": [
       "None"
      ]
     },
     "metadata": {},
     "output_type": "display_data"
    },
    {
     "data": {
      "text/html": [
       "<div>\n",
       "<style scoped>\n",
       "    .dataframe tbody tr th:only-of-type {\n",
       "        vertical-align: middle;\n",
       "    }\n",
       "\n",
       "    .dataframe tbody tr th {\n",
       "        vertical-align: top;\n",
       "    }\n",
       "\n",
       "    .dataframe thead th {\n",
       "        text-align: right;\n",
       "    }\n",
       "</style>\n",
       "<table border=\"1\" class=\"dataframe\">\n",
       "  <thead>\n",
       "    <tr style=\"text-align: right;\">\n",
       "      <th></th>\n",
       "      <th>Price</th>\n",
       "      <th>RegistrationYear</th>\n",
       "      <th>Power</th>\n",
       "      <th>Kilometer</th>\n",
       "      <th>RegistrationMonth</th>\n",
       "      <th>NumberOfPictures</th>\n",
       "      <th>PostalCode</th>\n",
       "    </tr>\n",
       "  </thead>\n",
       "  <tbody>\n",
       "    <tr>\n",
       "      <td>count</td>\n",
       "      <td>354369.000000</td>\n",
       "      <td>354369.000000</td>\n",
       "      <td>354369.000000</td>\n",
       "      <td>354369.000000</td>\n",
       "      <td>354369.000000</td>\n",
       "      <td>354369.0</td>\n",
       "      <td>354369.000000</td>\n",
       "    </tr>\n",
       "    <tr>\n",
       "      <td>mean</td>\n",
       "      <td>4416.656776</td>\n",
       "      <td>2004.234448</td>\n",
       "      <td>110.094337</td>\n",
       "      <td>128211.172535</td>\n",
       "      <td>5.714645</td>\n",
       "      <td>0.0</td>\n",
       "      <td>50508.689087</td>\n",
       "    </tr>\n",
       "    <tr>\n",
       "      <td>std</td>\n",
       "      <td>4514.158514</td>\n",
       "      <td>90.227958</td>\n",
       "      <td>189.850405</td>\n",
       "      <td>37905.341530</td>\n",
       "      <td>3.726421</td>\n",
       "      <td>0.0</td>\n",
       "      <td>25783.096248</td>\n",
       "    </tr>\n",
       "    <tr>\n",
       "      <td>min</td>\n",
       "      <td>0.000000</td>\n",
       "      <td>1000.000000</td>\n",
       "      <td>0.000000</td>\n",
       "      <td>5000.000000</td>\n",
       "      <td>0.000000</td>\n",
       "      <td>0.0</td>\n",
       "      <td>1067.000000</td>\n",
       "    </tr>\n",
       "    <tr>\n",
       "      <td>25%</td>\n",
       "      <td>1050.000000</td>\n",
       "      <td>1999.000000</td>\n",
       "      <td>69.000000</td>\n",
       "      <td>125000.000000</td>\n",
       "      <td>3.000000</td>\n",
       "      <td>0.0</td>\n",
       "      <td>30165.000000</td>\n",
       "    </tr>\n",
       "    <tr>\n",
       "      <td>50%</td>\n",
       "      <td>2700.000000</td>\n",
       "      <td>2003.000000</td>\n",
       "      <td>105.000000</td>\n",
       "      <td>150000.000000</td>\n",
       "      <td>6.000000</td>\n",
       "      <td>0.0</td>\n",
       "      <td>49413.000000</td>\n",
       "    </tr>\n",
       "    <tr>\n",
       "      <td>75%</td>\n",
       "      <td>6400.000000</td>\n",
       "      <td>2008.000000</td>\n",
       "      <td>143.000000</td>\n",
       "      <td>150000.000000</td>\n",
       "      <td>9.000000</td>\n",
       "      <td>0.0</td>\n",
       "      <td>71083.000000</td>\n",
       "    </tr>\n",
       "    <tr>\n",
       "      <td>max</td>\n",
       "      <td>20000.000000</td>\n",
       "      <td>9999.000000</td>\n",
       "      <td>20000.000000</td>\n",
       "      <td>150000.000000</td>\n",
       "      <td>12.000000</td>\n",
       "      <td>0.0</td>\n",
       "      <td>99998.000000</td>\n",
       "    </tr>\n",
       "  </tbody>\n",
       "</table>\n",
       "</div>"
      ],
      "text/plain": [
       "               Price  RegistrationYear          Power      Kilometer  \\\n",
       "count  354369.000000     354369.000000  354369.000000  354369.000000   \n",
       "mean     4416.656776       2004.234448     110.094337  128211.172535   \n",
       "std      4514.158514         90.227958     189.850405   37905.341530   \n",
       "min         0.000000       1000.000000       0.000000    5000.000000   \n",
       "25%      1050.000000       1999.000000      69.000000  125000.000000   \n",
       "50%      2700.000000       2003.000000     105.000000  150000.000000   \n",
       "75%      6400.000000       2008.000000     143.000000  150000.000000   \n",
       "max     20000.000000       9999.000000   20000.000000  150000.000000   \n",
       "\n",
       "       RegistrationMonth  NumberOfPictures     PostalCode  \n",
       "count      354369.000000          354369.0  354369.000000  \n",
       "mean            5.714645               0.0   50508.689087  \n",
       "std             3.726421               0.0   25783.096248  \n",
       "min             0.000000               0.0    1067.000000  \n",
       "25%             3.000000               0.0   30165.000000  \n",
       "50%             6.000000               0.0   49413.000000  \n",
       "75%             9.000000               0.0   71083.000000  \n",
       "max            12.000000               0.0   99998.000000  "
      ]
     },
     "execution_count": 1,
     "metadata": {},
     "output_type": "execute_result"
    }
   ],
   "source": [
    "import pandas as pd\n",
    "import numpy as np\n",
    "import matplotlib.pyplot as plt\n",
    "import plotly.express as px\n",
    "import time\n",
    "from sklearn.metrics import mean_squared_error\n",
    "from sklearn.linear_model import LinearRegression\n",
    "from sklearn.tree import DecisionTreeRegressor\n",
    "from sklearn.ensemble import RandomForestRegressor\n",
    "from lightgbm import LGBMRegressor\n",
    "from catboost import CatBoostRegressor\n",
    "from sklearn.model_selection import train_test_split \n",
    "from sklearn.preprocessing import StandardScaler\n",
    "data = pd.read_csv('/datasets/autos.csv')\n",
    "# display(data.head(10))\n",
    "display(data.info())\n",
    "data.describe()"
   ]
  },
  {
   "cell_type": "markdown",
   "metadata": {},
   "source": [
    "## Загрузка и подготовка данных"
   ]
  },
  {
   "cell_type": "code",
   "execution_count": 2,
   "metadata": {},
   "outputs": [
    {
     "name": "stdout",
     "output_type": "stream",
     "text": [
      "DateCrawled              0\n",
      "Price                    0\n",
      "VehicleType          37490\n",
      "RegistrationYear         0\n",
      "Gearbox              19833\n",
      "Power                    0\n",
      "Model                19705\n",
      "Kilometer                0\n",
      "RegistrationMonth        0\n",
      "FuelType             32895\n",
      "Brand                    0\n",
      "NotRepaired          71154\n",
      "DateCreated              0\n",
      "NumberOfPictures         0\n",
      "PostalCode               0\n",
      "LastSeen                 0\n",
      "dtype: int64\n",
      "4\n"
     ]
    }
   ],
   "source": [
    "print(data.isnull().sum())\n",
    "print(data.duplicated().sum())"
   ]
  },
  {
   "cell_type": "code",
   "execution_count": 3,
   "metadata": {},
   "outputs": [
    {
     "data": {
      "text/plain": [
       "329497    2016-03-05 14:06:22\n",
       "220583    2016-03-05 14:06:23\n",
       "176823    2016-03-05 14:06:24\n",
       "99885     2016-03-05 14:06:24\n",
       "324763    2016-03-05 14:06:24\n",
       "                 ...         \n",
       "204218    2016-04-07 14:36:53\n",
       "53739     2016-04-07 14:36:54\n",
       "301030    2016-04-07 14:36:55\n",
       "339649    2016-04-07 14:36:56\n",
       "90713     2016-04-07 14:36:58\n",
       "Name: DateCrawled, Length: 354369, dtype: object"
      ]
     },
     "execution_count": 3,
     "metadata": {},
     "output_type": "execute_result"
    }
   ],
   "source": [
    "autos = data.copy()\n",
    "autos['DateCrawled'].sort_values() # анкеты выкачивались с марта по апрель 2016 года"
   ]
  },
  {
   "cell_type": "code",
   "execution_count": 4,
   "metadata": {},
   "outputs": [
    {
     "data": {
      "text/plain": [
       "61207     2014-03-10 00:00:00\n",
       "4001      2015-03-20 00:00:00\n",
       "342275    2015-06-18 00:00:00\n",
       "86601     2015-08-07 00:00:00\n",
       "175103    2015-08-10 00:00:00\n",
       "                 ...         \n",
       "134418    2016-04-07 00:00:00\n",
       "176987    2016-04-07 00:00:00\n",
       "206303    2016-04-07 00:00:00\n",
       "309336    2016-04-07 00:00:00\n",
       "305430    2016-04-07 00:00:00\n",
       "Name: DateCreated, Length: 354369, dtype: object"
      ]
     },
     "execution_count": 4,
     "metadata": {},
     "output_type": "execute_result"
    }
   ],
   "source": [
    "autos['DateCreated'].sort_values() # самая ранняя анкета создана в марте 2014 года, самая поздняя в апреле 2016."
   ]
  },
  {
   "cell_type": "code",
   "execution_count": 5,
   "metadata": {},
   "outputs": [
    {
     "data": {
      "text/plain": [
       "296785    2016-03-05 14:15:08\n",
       "262341    2016-03-05 14:15:16\n",
       "130462    2016-03-05 14:15:39\n",
       "285695    2016-03-05 14:18:30\n",
       "169065    2016-03-05 14:25:59\n",
       "                 ...         \n",
       "54852     2016-04-07 14:58:50\n",
       "59506     2016-04-07 14:58:50\n",
       "116344    2016-04-07 14:58:50\n",
       "215705    2016-04-07 14:58:50\n",
       "327303    2016-04-07 14:58:51\n",
       "Name: LastSeen, Length: 354369, dtype: object"
      ]
     },
     "execution_count": 5,
     "metadata": {},
     "output_type": "execute_result"
    }
   ],
   "source": [
    "autos['LastSeen'].sort_values() # последняя активность пользователей отмечена в марте-апреле 2016."
   ]
  },
  {
   "cell_type": "code",
   "execution_count": 6,
   "metadata": {},
   "outputs": [],
   "source": [
    "actual_autos_data = autos.query('RegistrationYear >= 1986 and RegistrationYear < 2016 and Power < 2000')\n",
    "fig_reg_year = px.histogram(actual_autos_data, x = 'RegistrationYear', marginal = 'box', title = 'Распределение '+ 'RegistrationYear')\n",
    "# fig_reg_year.show()\n",
    "fig_power = px.histogram(actual_autos_data, x = 'Power', marginal = 'box', title = 'Распределение '+ 'Power')\n",
    "# fig_power.show()"
   ]
  },
  {
   "cell_type": "code",
   "execution_count": 7,
   "metadata": {},
   "outputs": [
    {
     "data": {
      "text/plain": [
       "0        40225\n",
       "75       24023\n",
       "60       15897\n",
       "150      14590\n",
       "101      13298\n",
       "         ...  \n",
       "16311        1\n",
       "1360         1\n",
       "1968         1\n",
       "6226         1\n",
       "6006         1\n",
       "Name: Power, Length: 712, dtype: int64"
      ]
     },
     "execution_count": 7,
     "metadata": {},
     "output_type": "execute_result"
    }
   ],
   "source": [
    "# actual_autos_data['Power'].value_counts()\n",
    "autos['Power'].value_counts()"
   ]
  },
  {
   "cell_type": "code",
   "execution_count": 8,
   "metadata": {},
   "outputs": [
    {
     "name": "stdout",
     "output_type": "stream",
     "text": [
      "DateCrawled          0\n",
      "Price                0\n",
      "VehicleType          0\n",
      "RegistrationYear     0\n",
      "Gearbox              0\n",
      "Power                0\n",
      "Model                0\n",
      "Kilometer            0\n",
      "RegistrationMonth    0\n",
      "FuelType             0\n",
      "Brand                0\n",
      "NotRepaired          0\n",
      "DateCreated          0\n",
      "NumberOfPictures     0\n",
      "PostalCode           0\n",
      "LastSeen             0\n",
      "dtype: int64\n"
     ]
    },
    {
     "name": "stderr",
     "output_type": "stream",
     "text": [
      "/opt/conda/lib/python3.7/site-packages/pandas/core/frame.py:3494: SettingWithCopyWarning:\n",
      "\n",
      "\n",
      "A value is trying to be set on a copy of a slice from a DataFrame.\n",
      "Try using .loc[row_indexer,col_indexer] = value instead\n",
      "\n",
      "See the caveats in the documentation: http://pandas.pydata.org/pandas-docs/stable/user_guide/indexing.html#returning-a-view-versus-a-copy\n",
      "\n"
     ]
    },
    {
     "data": {
      "text/plain": [
       "0        8837\n",
       "500      5093\n",
       "1500     4850\n",
       "1200     4136\n",
       "1000     4114\n",
       "         ... \n",
       "5697        1\n",
       "2004        1\n",
       "2996        1\n",
       "11985       1\n",
       "8188        1\n",
       "Name: Price, Length: 3645, dtype: int64"
      ]
     },
     "execution_count": 8,
     "metadata": {},
     "output_type": "execute_result"
    }
   ],
   "source": [
    "actual_autos_data[['VehicleType', 'Gearbox', 'FuelType', 'Model', 'NotRepaired']] = actual_autos_data[['VehicleType', 'Gearbox', 'FuelType', 'Model', 'NotRepaired']].fillna('unknown')\n",
    "print(actual_autos_data.isnull().sum())\n",
    "actual_autos_data['Price'].value_counts()"
   ]
  },
  {
   "cell_type": "code",
   "execution_count": 9,
   "metadata": {},
   "outputs": [
    {
     "name": "stderr",
     "output_type": "stream",
     "text": [
      "/opt/conda/lib/python3.7/site-packages/ipykernel_launcher.py:1: SettingWithCopyWarning:\n",
      "\n",
      "\n",
      "A value is trying to be set on a copy of a slice from a DataFrame.\n",
      "Try using .loc[row_indexer,col_indexer] = value instead\n",
      "\n",
      "See the caveats in the documentation: http://pandas.pydata.org/pandas-docs/stable/user_guide/indexing.html#returning-a-view-versus-a-copy\n",
      "\n"
     ]
    }
   ],
   "source": [
    "actual_autos_data['Price'] = actual_autos_data['Price'].replace(0, float('Nan'))\n",
    "actual_autos_data = actual_autos_data.dropna()"
   ]
  },
  {
   "cell_type": "code",
   "execution_count": 10,
   "metadata": {},
   "outputs": [
    {
     "name": "stdout",
     "output_type": "stream",
     "text": [
      "DateCrawled          0\n",
      "Price                0\n",
      "VehicleType          0\n",
      "RegistrationYear     0\n",
      "Gearbox              0\n",
      "Power                0\n",
      "Model                0\n",
      "Kilometer            0\n",
      "RegistrationMonth    0\n",
      "FuelType             0\n",
      "Brand                0\n",
      "NotRepaired          0\n",
      "DateCreated          0\n",
      "NumberOfPictures     0\n",
      "PostalCode           0\n",
      "LastSeen             0\n",
      "dtype: int64\n"
     ]
    }
   ],
   "source": [
    "actual_autos_data['Price'].value_counts()\n",
    "print(actual_autos_data.isnull().sum())"
   ]
  },
  {
   "cell_type": "code",
   "execution_count": 11,
   "metadata": {},
   "outputs": [
    {
     "name": "stdout",
     "output_type": "stream",
     "text": [
      "75.0      22630\n",
      "60.0      17716\n",
      "150.0     16158\n",
      "101.0     15009\n",
      "90.0      12734\n",
      "          ...  \n",
      "1596.0        1\n",
      "1597.0        1\n",
      "1199.0        1\n",
      "544.0         1\n",
      "1501.0        1\n",
      "Name: Power, Length: 586, dtype: int64\n",
      "            DateCrawled    Price  VehicleType  RegistrationYear Gearbox  \\\n",
      "0   2016-03-24 11:52:17    480.0      unknown              1993  manual   \n",
      "1   2016-03-24 10:58:45  18300.0        coupe              2011  manual   \n",
      "2   2016-03-14 12:52:21   9800.0          suv              2004    auto   \n",
      "3   2016-03-17 16:54:04   1500.0        small              2001  manual   \n",
      "4   2016-03-31 17:25:20   3600.0        small              2008  manual   \n",
      "5   2016-04-04 17:36:23    650.0        sedan              1995  manual   \n",
      "6   2016-04-01 20:48:51   2200.0  convertible              2004  manual   \n",
      "8   2016-04-04 23:42:13  14500.0          bus              2014  manual   \n",
      "9   2016-03-17 10:53:50    999.0        small              1998  manual   \n",
      "10  2016-03-26 19:54:18   2000.0        sedan              2004  manual   \n",
      "\n",
      "    Power    Model  Kilometer  RegistrationMonth  FuelType       Brand  \\\n",
      "0   101.0     golf     150000                  0    petrol  volkswagen   \n",
      "1   190.0  unknown     125000                  5  gasoline        audi   \n",
      "2   163.0    grand     125000                  8  gasoline        jeep   \n",
      "3    75.0     golf     150000                  6    petrol  volkswagen   \n",
      "4    69.0    fabia      90000                  7  gasoline       skoda   \n",
      "5   102.0      3er     150000                 10    petrol         bmw   \n",
      "6   109.0  2_reihe     150000                  8    petrol     peugeot   \n",
      "8   125.0    c_max      30000                  8    petrol        ford   \n",
      "9   101.0     golf     150000                  0   unknown  volkswagen   \n",
      "10  105.0  3_reihe     150000                 12    petrol       mazda   \n",
      "\n",
      "   NotRepaired          DateCreated  NumberOfPictures  PostalCode  \\\n",
      "0      unknown  2016-03-24 00:00:00                 0       70435   \n",
      "1          yes  2016-03-24 00:00:00                 0       66954   \n",
      "2      unknown  2016-03-14 00:00:00                 0       90480   \n",
      "3           no  2016-03-17 00:00:00                 0       91074   \n",
      "4           no  2016-03-31 00:00:00                 0       60437   \n",
      "5          yes  2016-04-04 00:00:00                 0       33775   \n",
      "6           no  2016-04-01 00:00:00                 0       67112   \n",
      "8      unknown  2016-04-04 00:00:00                 0       94505   \n",
      "9      unknown  2016-03-17 00:00:00                 0       27472   \n",
      "10          no  2016-03-26 00:00:00                 0       96224   \n",
      "\n",
      "               LastSeen  \n",
      "0   2016-04-07 03:16:57  \n",
      "1   2016-04-07 01:46:50  \n",
      "2   2016-04-05 12:47:46  \n",
      "3   2016-03-17 17:40:17  \n",
      "4   2016-04-06 10:17:21  \n",
      "5   2016-04-06 19:17:07  \n",
      "6   2016-04-05 18:18:39  \n",
      "8   2016-04-04 23:42:13  \n",
      "9   2016-03-31 17:17:06  \n",
      "10  2016-04-06 10:45:34  \n"
     ]
    }
   ],
   "source": [
    "horse_forse = actual_autos_data[actual_autos_data['Power'] != 0].groupby(['Model', 'Brand'])['Power'].agg('median')\n",
    "\n",
    "def horsy_forsy(row):\n",
    "    power = row['Power']\n",
    "    if power == 0:\n",
    "        model = row['Model']\n",
    "        brand = row['Brand']\n",
    "        row['Power'] = horse_forse[model, brand]\n",
    "    return row\n",
    "\n",
    "actual_autos_data = actual_autos_data.apply(horsy_forsy, axis=1)\n",
    "\n",
    "print(actual_autos_data['Power'].value_counts())\n",
    "print(actual_autos_data.head(10))"
   ]
  },
  {
   "cell_type": "code",
   "execution_count": 12,
   "metadata": {},
   "outputs": [],
   "source": [
    "actual_autos_data = actual_autos_data.drop(['DateCrawled', 'DateCreated', 'LastSeen', 'NumberOfPictures', 'RegistrationMonth', 'PostalCode'], axis=1)"
   ]
  },
  {
   "cell_type": "code",
   "execution_count": 13,
   "metadata": {},
   "outputs": [
    {
     "name": "stdout",
     "output_type": "stream",
     "text": [
      "0    261116\n",
      "1     53981\n",
      "Name: NotRepaired, dtype: int64\n"
     ]
    }
   ],
   "source": [
    "actual_autos_data['NotRepaired'] = pd.get_dummies(actual_autos_data['NotRepaired'], drop_first=True)\n",
    "print(actual_autos_data['NotRepaired'].value_counts())"
   ]
  },
  {
   "cell_type": "code",
   "execution_count": 14,
   "metadata": {},
   "outputs": [],
   "source": [
    "from sklearn.preprocessing import OrdinalEncoder\n",
    "encoder = OrdinalEncoder()\n",
    "actual_autos_data[['VehicleType', 'Gearbox', 'Model', 'FuelType', 'Brand']] = pd.DataFrame(encoder.fit_transform(actual_autos_data[['VehicleType', 'Gearbox', 'Model', 'FuelType', 'Brand']]), columns=[['VehicleType', 'Gearbox', 'Model', 'FuelType', 'Brand']], index=actual_autos_data.index)"
   ]
  },
  {
   "cell_type": "code",
   "execution_count": 15,
   "metadata": {},
   "outputs": [
    {
     "name": "stdout",
     "output_type": "stream",
     "text": [
      "          Price  VehicleType  RegistrationYear  Gearbox  Power  Model  \\\n",
      "0         480.0          7.0              1993      1.0  101.0  116.0   \n",
      "1       18300.0          2.0              2011      1.0  190.0  225.0   \n",
      "2        9800.0          6.0              2004      0.0  163.0  117.0   \n",
      "3        1500.0          5.0              2001      1.0   75.0  116.0   \n",
      "4        3600.0          5.0              2008      1.0   69.0  101.0   \n",
      "...         ...          ...               ...      ...    ...    ...   \n",
      "354363   1150.0          0.0              2000      1.0  125.0  247.0   \n",
      "354365   2200.0          7.0              2005      2.0  150.0  225.0   \n",
      "354366   1199.0          1.0              2000      0.0  101.0  106.0   \n",
      "354367   9200.0          0.0              1996      1.0  102.0  221.0   \n",
      "354368   3400.0          8.0              2002      1.0  100.0  116.0   \n",
      "\n",
      "        Kilometer  FuelType  Brand  NotRepaired  \n",
      "0          150000       6.0   38.0            1  \n",
      "1          125000       2.0    1.0            0  \n",
      "2          125000       2.0   14.0            1  \n",
      "3          150000       6.0   38.0            0  \n",
      "4           90000       2.0   31.0            0  \n",
      "...           ...       ...    ...          ...  \n",
      "354363     150000       6.0   24.0            0  \n",
      "354365      20000       7.0   33.0            1  \n",
      "354366     125000       6.0   32.0            0  \n",
      "354367     150000       2.0   38.0            0  \n",
      "354368     150000       2.0   38.0            1  \n",
      "\n",
      "[315097 rows x 10 columns]\n"
     ]
    }
   ],
   "source": [
    "print(actual_autos_data)"
   ]
  },
  {
   "cell_type": "markdown",
   "metadata": {},
   "source": [
    "### Вывод "
   ]
  },
  {
   "cell_type": "markdown",
   "metadata": {},
   "source": [
    "* В столбце стоимость (Price) обнаружилось больше 10000 нулевых значений. Нулевые значения в столбце 'Price' не помогут нам предсказать цену - удаляем.\n",
    "* Год регистрации (RegistrationYear): самая поздняя анкета была создана в апреле 2016. Считаем, что регистрации автомобилей позже апреля 2016 года и ранее 1986 года быть не должно. Тачки старше 1986 года относятся к винтажным и их нужно оценивать с помощью специально обученного человека.\n",
    "* Восстановить пропущенные данные по типу кузова (VehicleType), коробке передач (Gearbox) и типу топлива (FuelType) представляется очень сложной задачей, поэтому пропуски пометим как неизвестное (unknown). Так же поступим с моделью автомобиля (Model) и была машина в ремонте или нет (NotRepaired).\n",
    "* В столбце мощность (Power) обнаружилось значение 0 л.с. в количестве более 40000 строк, что составляет 11% данных. Попробуем заполнить данными из датасета по аналогичным моделям. Отсекла авто с мощностью более 2000 л.с., так как нашла информацию о том, что одним из самых мощных авто является 2020 Koenigsegg Gemera Prototype - 1724 л.с.\n",
    "* Дата скачивания анкеты из базы (DateCrawled), дата создания анкеты (DateCreated) и дата последней активности пользователя (LastSeen) на мой взгляд мало влияют на модель, следовательно удаляем. Так же поступим с количеством фотографий автомобиля (NumberOfPictures).\n",
    "* Закодировала данные, содержащиеся в столбце 'NotRepaired' с помощью OHE."
   ]
  },
  {
   "cell_type": "markdown",
   "metadata": {},
   "source": [
    "## Обучение моделей"
   ]
  },
  {
   "cell_type": "code",
   "execution_count": 16,
   "metadata": {},
   "outputs": [],
   "source": [
    "research_result = pd.DataFrame(columns=['RMSE', 'Learning_time', 'Predict_time', 'Model_name'])"
   ]
  },
  {
   "cell_type": "code",
   "execution_count": 17,
   "metadata": {},
   "outputs": [],
   "source": [
    "target = actual_autos_data['Price']\n",
    "features = actual_autos_data.drop(['Price'], axis=1)\n",
    "features_train, features_test, target_train, target_test = train_test_split(features, target, test_size=0.25, random_state=12345)"
   ]
  },
  {
   "cell_type": "code",
   "execution_count": 18,
   "metadata": {},
   "outputs": [],
   "source": [
    "def fit_time(model, f_train, t_train):\n",
    "    start = time.time()\n",
    "    model.fit(f_train, t_train)\n",
    "    end = time.time()\n",
    "    \n",
    "    learning_time = end - start\n",
    "    return learning_time, model"
   ]
  },
  {
   "cell_type": "code",
   "execution_count": 19,
   "metadata": {},
   "outputs": [],
   "source": [
    "def predict_time(model, f_test):\n",
    "    start = time.time()\n",
    "    prediction = model.predict(f_test)\n",
    "    end = time.time()\n",
    "    \n",
    "    prediction_time = end - start\n",
    "    return prediction_time, prediction, model"
   ]
  },
  {
   "cell_type": "code",
   "execution_count": 20,
   "metadata": {},
   "outputs": [],
   "source": [
    "def give_me_importance (model_name):\n",
    "    feature_importances = (pd.DataFrame(model_name.feature_importances_, index=features.columns, columns=['Importance'])\n",
    "                      .sort_values(by='Importance', ascending=False))\n",
    "    display(feature_importances)\n",
    "    feature_importances.plot(kind='barh', figsize=(10, 8))\n",
    "    plt.title('Importance')\n",
    "    plt.show()"
   ]
  },
  {
   "cell_type": "code",
   "execution_count": 21,
   "metadata": {},
   "outputs": [
    {
     "name": "stdout",
     "output_type": "stream",
     "text": [
      "learning_time 0.05525994300842285\n",
      "prediction_time 0.044899940490722656\n",
      "RMSE_regression = 2855.8251360876757\n",
      "[-1.71168984e+02  4.03080212e+02 -9.57987458e+02  2.47900181e+01\n",
      " -9.41111160e-01 -2.56455543e-02 -2.63457603e+02  3.23647831e+00\n",
      " -4.73708004e+02]\n"
     ]
    }
   ],
   "source": [
    "model_regression = LinearRegression()\n",
    "\n",
    "learning_time, model_regression_fitted = fit_time(model_regression, features_train, target_train)\n",
    "print('learning_time', learning_time)\n",
    "prediction_time, prediction, model = predict_time(model_regression_fitted, features_test)\n",
    "print('prediction_time', prediction_time)\n",
    "RMSE_regression = np.sqrt(mean_squared_error(target_test, prediction)) \n",
    "print(\"RMSE_regression =\", RMSE_regression)\n",
    "\n",
    "research_result.loc[0, 'Model_name']='LinearRegression'\n",
    "research_result.loc[0, 'Learning_time']=learning_time\n",
    "research_result.loc[0, 'Predict_time']=prediction_time\n",
    "research_result.loc[0, 'RMSE']=RMSE_regression\n",
    "\n",
    "print(model_regression.coef_)"
   ]
  },
  {
   "cell_type": "code",
   "execution_count": 22,
   "metadata": {},
   "outputs": [
    {
     "name": "stdout",
     "output_type": "stream",
     "text": [
      "learning_time 1.1425671577453613\n",
      "prediction_time 0.03470802307128906\n",
      "RMSE_tree = 1751.9332105336273\n"
     ]
    },
    {
     "data": {
      "text/html": [
       "<div>\n",
       "<style scoped>\n",
       "    .dataframe tbody tr th:only-of-type {\n",
       "        vertical-align: middle;\n",
       "    }\n",
       "\n",
       "    .dataframe tbody tr th {\n",
       "        vertical-align: top;\n",
       "    }\n",
       "\n",
       "    .dataframe thead th {\n",
       "        text-align: right;\n",
       "    }\n",
       "</style>\n",
       "<table border=\"1\" class=\"dataframe\">\n",
       "  <thead>\n",
       "    <tr style=\"text-align: right;\">\n",
       "      <th></th>\n",
       "      <th>Importance</th>\n",
       "    </tr>\n",
       "  </thead>\n",
       "  <tbody>\n",
       "    <tr>\n",
       "      <td>RegistrationYear</td>\n",
       "      <td>0.604330</td>\n",
       "    </tr>\n",
       "    <tr>\n",
       "      <td>Power</td>\n",
       "      <td>0.242952</td>\n",
       "    </tr>\n",
       "    <tr>\n",
       "      <td>Brand</td>\n",
       "      <td>0.034487</td>\n",
       "    </tr>\n",
       "    <tr>\n",
       "      <td>VehicleType</td>\n",
       "      <td>0.032854</td>\n",
       "    </tr>\n",
       "    <tr>\n",
       "      <td>Model</td>\n",
       "      <td>0.032332</td>\n",
       "    </tr>\n",
       "    <tr>\n",
       "      <td>Kilometer</td>\n",
       "      <td>0.030273</td>\n",
       "    </tr>\n",
       "    <tr>\n",
       "      <td>Gearbox</td>\n",
       "      <td>0.011335</td>\n",
       "    </tr>\n",
       "    <tr>\n",
       "      <td>FuelType</td>\n",
       "      <td>0.008752</td>\n",
       "    </tr>\n",
       "    <tr>\n",
       "      <td>NotRepaired</td>\n",
       "      <td>0.002686</td>\n",
       "    </tr>\n",
       "  </tbody>\n",
       "</table>\n",
       "</div>"
      ],
      "text/plain": [
       "                  Importance\n",
       "RegistrationYear    0.604330\n",
       "Power               0.242952\n",
       "Brand               0.034487\n",
       "VehicleType         0.032854\n",
       "Model               0.032332\n",
       "Kilometer           0.030273\n",
       "Gearbox             0.011335\n",
       "FuelType            0.008752\n",
       "NotRepaired         0.002686"
      ]
     },
     "metadata": {},
     "output_type": "display_data"
    },
    {
     "data": {
      "image/png": "[encoded data removed]",
      "text/plain": [
       "<Figure size 720x576 with 1 Axes>"
      ]
     },
     "metadata": {
      "needs_background": "light"
     },
     "output_type": "display_data"
    }
   ],
   "source": [
    "model_tree = DecisionTreeRegressor(max_depth=None, min_samples_leaf=3, random_state=12345)\n",
    "\n",
    "learning_time, model_tree_fitted = fit_time(model_tree, features_train, target_train)\n",
    "print('learning_time', learning_time)\n",
    "prediction_time, prediction, model = predict_time(model_tree_fitted, features_test)\n",
    "print('prediction_time', prediction_time)\n",
    "RMSE_tree = np.sqrt(mean_squared_error(target_test, prediction)) \n",
    "print(\"RMSE_tree =\", RMSE_tree)\n",
    "research_result.loc[1, 'Model_name']='DecisionTreeRegressor'\n",
    "research_result.loc[1, 'Learning_time']=learning_time\n",
    "research_result.loc[1, 'Predict_time']=prediction_time\n",
    "research_result.loc[1, 'RMSE']=RMSE_tree\n",
    "\n",
    "give_me_importance (model_tree)"
   ]
  },
  {
   "cell_type": "code",
   "execution_count": 23,
   "metadata": {},
   "outputs": [
    {
     "name": "stdout",
     "output_type": "stream",
     "text": [
      "learning_time 13.190767288208008\n",
      "prediction_time 0.4801497459411621\n",
      "RMSE_forest = 1609.8582917486858\n"
     ]
    },
    {
     "data": {
      "text/html": [
       "<div>\n",
       "<style scoped>\n",
       "    .dataframe tbody tr th:only-of-type {\n",
       "        vertical-align: middle;\n",
       "    }\n",
       "\n",
       "    .dataframe tbody tr th {\n",
       "        vertical-align: top;\n",
       "    }\n",
       "\n",
       "    .dataframe thead th {\n",
       "        text-align: right;\n",
       "    }\n",
       "</style>\n",
       "<table border=\"1\" class=\"dataframe\">\n",
       "  <thead>\n",
       "    <tr style=\"text-align: right;\">\n",
       "      <th></th>\n",
       "      <th>Importance</th>\n",
       "    </tr>\n",
       "  </thead>\n",
       "  <tbody>\n",
       "    <tr>\n",
       "      <td>RegistrationYear</td>\n",
       "      <td>0.607152</td>\n",
       "    </tr>\n",
       "    <tr>\n",
       "      <td>Power</td>\n",
       "      <td>0.246517</td>\n",
       "    </tr>\n",
       "    <tr>\n",
       "      <td>Brand</td>\n",
       "      <td>0.034176</td>\n",
       "    </tr>\n",
       "    <tr>\n",
       "      <td>VehicleType</td>\n",
       "      <td>0.031400</td>\n",
       "    </tr>\n",
       "    <tr>\n",
       "      <td>Kilometer</td>\n",
       "      <td>0.030308</td>\n",
       "    </tr>\n",
       "    <tr>\n",
       "      <td>Model</td>\n",
       "      <td>0.027234</td>\n",
       "    </tr>\n",
       "    <tr>\n",
       "      <td>Gearbox</td>\n",
       "      <td>0.011461</td>\n",
       "    </tr>\n",
       "    <tr>\n",
       "      <td>FuelType</td>\n",
       "      <td>0.008664</td>\n",
       "    </tr>\n",
       "    <tr>\n",
       "      <td>NotRepaired</td>\n",
       "      <td>0.003087</td>\n",
       "    </tr>\n",
       "  </tbody>\n",
       "</table>\n",
       "</div>"
      ],
      "text/plain": [
       "                  Importance\n",
       "RegistrationYear    0.607152\n",
       "Power               0.246517\n",
       "Brand               0.034176\n",
       "VehicleType         0.031400\n",
       "Kilometer           0.030308\n",
       "Model               0.027234\n",
       "Gearbox             0.011461\n",
       "FuelType            0.008664\n",
       "NotRepaired         0.003087"
      ]
     },
     "metadata": {},
     "output_type": "display_data"
    },
    {
     "data": {
      "image/png": "[encoded data removed]",
      "text/plain": [
       "<Figure size 720x576 with 1 Axes>"
      ]
     },
     "metadata": {
      "needs_background": "light"
     },
     "output_type": "display_data"
    }
   ],
   "source": [
    "model_forest = RandomForestRegressor(n_estimators=20, max_depth=15, random_state=12345)\n",
    "\n",
    "learning_time, model_forest_fitted = fit_time(model_forest, features_train, target_train)\n",
    "print('learning_time', learning_time)\n",
    "prediction_time, prediction, model = predict_time(model_forest_fitted, features_test)\n",
    "print('prediction_time', prediction_time)\n",
    "RMSE_forest = np.sqrt(mean_squared_error(target_test, prediction)) \n",
    "print(\"RMSE_forest =\", RMSE_forest)\n",
    "research_result.loc[2, 'Model_name']='RandomForestRegressor'\n",
    "research_result.loc[2, 'Learning_time']=learning_time\n",
    "research_result.loc[2, 'Predict_time']=prediction_time\n",
    "research_result.loc[2, 'RMSE']=RMSE_forest\n",
    "\n",
    "give_me_importance (model_forest)"
   ]
  },
  {
   "cell_type": "code",
   "execution_count": 24,
   "metadata": {},
   "outputs": [
    {
     "name": "stdout",
     "output_type": "stream",
     "text": [
      "learning_time 574.8261868953705\n",
      "prediction_time 0.7204291820526123\n",
      "RMSE_LGBMR = 1631.2165665631057\n"
     ]
    },
    {
     "data": {
      "text/html": [
       "<div>\n",
       "<style scoped>\n",
       "    .dataframe tbody tr th:only-of-type {\n",
       "        vertical-align: middle;\n",
       "    }\n",
       "\n",
       "    .dataframe tbody tr th {\n",
       "        vertical-align: top;\n",
       "    }\n",
       "\n",
       "    .dataframe thead th {\n",
       "        text-align: right;\n",
       "    }\n",
       "</style>\n",
       "<table border=\"1\" class=\"dataframe\">\n",
       "  <thead>\n",
       "    <tr style=\"text-align: right;\">\n",
       "      <th></th>\n",
       "      <th>Importance</th>\n",
       "    </tr>\n",
       "  </thead>\n",
       "  <tbody>\n",
       "    <tr>\n",
       "      <td>Power</td>\n",
       "      <td>727</td>\n",
       "    </tr>\n",
       "    <tr>\n",
       "      <td>RegistrationYear</td>\n",
       "      <td>579</td>\n",
       "    </tr>\n",
       "    <tr>\n",
       "      <td>Model</td>\n",
       "      <td>477</td>\n",
       "    </tr>\n",
       "    <tr>\n",
       "      <td>Brand</td>\n",
       "      <td>434</td>\n",
       "    </tr>\n",
       "    <tr>\n",
       "      <td>VehicleType</td>\n",
       "      <td>287</td>\n",
       "    </tr>\n",
       "    <tr>\n",
       "      <td>Kilometer</td>\n",
       "      <td>252</td>\n",
       "    </tr>\n",
       "    <tr>\n",
       "      <td>FuelType</td>\n",
       "      <td>112</td>\n",
       "    </tr>\n",
       "    <tr>\n",
       "      <td>Gearbox</td>\n",
       "      <td>106</td>\n",
       "    </tr>\n",
       "    <tr>\n",
       "      <td>NotRepaired</td>\n",
       "      <td>26</td>\n",
       "    </tr>\n",
       "  </tbody>\n",
       "</table>\n",
       "</div>"
      ],
      "text/plain": [
       "                  Importance\n",
       "Power                    727\n",
       "RegistrationYear         579\n",
       "Model                    477\n",
       "Brand                    434\n",
       "VehicleType              287\n",
       "Kilometer                252\n",
       "FuelType                 112\n",
       "Gearbox                  106\n",
       "NotRepaired               26"
      ]
     },
     "metadata": {},
     "output_type": "display_data"
    },
    {
     "data": {
      "image/png": "[encoded data removed]",
      "text/plain": [
       "<Figure size 720x576 with 1 Axes>"
      ]
     },
     "metadata": {
      "needs_background": "light"
     },
     "output_type": "display_data"
    }
   ],
   "source": [
    "model_LGBMR = LGBMRegressor(boosting_type='gbdt', num_leaves=31, max_depth=12, learning_rate=0.2, n_estimators=100, random_state=12345)\n",
    "\n",
    "learning_time, model_LGBMR_fitted = fit_time(model_LGBMR, features_train, target_train)\n",
    "print('learning_time', learning_time)\n",
    "prediction_time, prediction, model = predict_time(model_LGBMR_fitted, features_test)\n",
    "print('prediction_time', prediction_time)\n",
    "RMSE_LGBMR = np.sqrt(mean_squared_error(target_test, prediction)) \n",
    "print(\"RMSE_LGBMR =\", RMSE_LGBMR)\n",
    "research_result.loc[3, 'Model_name']='LGBMRegressor'\n",
    "research_result.loc[3, 'Learning_time']=learning_time\n",
    "research_result.loc[3, 'Predict_time']=prediction_time\n",
    "research_result.loc[3, 'RMSE']=RMSE_LGBMR\n",
    "\n",
    "give_me_importance (model_LGBMR)"
   ]
  },
  {
   "cell_type": "code",
   "execution_count": 25,
   "metadata": {},
   "outputs": [
    {
     "name": "stdout",
     "output_type": "stream",
     "text": [
      "learning_time 18.722574949264526\n",
      "prediction_time 0.023517608642578125\n",
      "RMSE_catboost = 2038.8837973878215\n"
     ]
    },
    {
     "data": {
      "text/html": [
       "<div>\n",
       "<style scoped>\n",
       "    .dataframe tbody tr th:only-of-type {\n",
       "        vertical-align: middle;\n",
       "    }\n",
       "\n",
       "    .dataframe tbody tr th {\n",
       "        vertical-align: top;\n",
       "    }\n",
       "\n",
       "    .dataframe thead th {\n",
       "        text-align: right;\n",
       "    }\n",
       "</style>\n",
       "<table border=\"1\" class=\"dataframe\">\n",
       "  <thead>\n",
       "    <tr style=\"text-align: right;\">\n",
       "      <th></th>\n",
       "      <th>Importance</th>\n",
       "    </tr>\n",
       "  </thead>\n",
       "  <tbody>\n",
       "    <tr>\n",
       "      <td>RegistrationYear</td>\n",
       "      <td>43.402999</td>\n",
       "    </tr>\n",
       "    <tr>\n",
       "      <td>Power</td>\n",
       "      <td>36.585675</td>\n",
       "    </tr>\n",
       "    <tr>\n",
       "      <td>Brand</td>\n",
       "      <td>6.465519</td>\n",
       "    </tr>\n",
       "    <tr>\n",
       "      <td>Kilometer</td>\n",
       "      <td>5.765210</td>\n",
       "    </tr>\n",
       "    <tr>\n",
       "      <td>VehicleType</td>\n",
       "      <td>4.620116</td>\n",
       "    </tr>\n",
       "    <tr>\n",
       "      <td>Gearbox</td>\n",
       "      <td>1.659834</td>\n",
       "    </tr>\n",
       "    <tr>\n",
       "      <td>FuelType</td>\n",
       "      <td>0.874950</td>\n",
       "    </tr>\n",
       "    <tr>\n",
       "      <td>Model</td>\n",
       "      <td>0.316330</td>\n",
       "    </tr>\n",
       "    <tr>\n",
       "      <td>NotRepaired</td>\n",
       "      <td>0.309367</td>\n",
       "    </tr>\n",
       "  </tbody>\n",
       "</table>\n",
       "</div>"
      ],
      "text/plain": [
       "                  Importance\n",
       "RegistrationYear   43.402999\n",
       "Power              36.585675\n",
       "Brand               6.465519\n",
       "Kilometer           5.765210\n",
       "VehicleType         4.620116\n",
       "Gearbox             1.659834\n",
       "FuelType            0.874950\n",
       "Model               0.316330\n",
       "NotRepaired         0.309367"
      ]
     },
     "metadata": {},
     "output_type": "display_data"
    },
    {
     "data": {
      "image/png": "[encoded data removed]",
      "text/plain": [
       "<Figure size 720x576 with 1 Axes>"
      ]
     },
     "metadata": {
      "needs_background": "light"
     },
     "output_type": "display_data"
    }
   ],
   "source": [
    "model_catboost = CatBoostRegressor(loss_function='RMSE', n_estimators = 100, silent = True)\n",
    "\n",
    "learning_time, model_catboost_fitted = fit_time(model_catboost, features_train, target_train)\n",
    "print('learning_time', learning_time)\n",
    "prediction_time, prediction, model = predict_time(model_catboost_fitted, features_test)\n",
    "print('prediction_time', prediction_time)\n",
    "RMSE_catboost = np.sqrt(mean_squared_error(target_test, prediction)) \n",
    "print(\"RMSE_catboost =\", RMSE_catboost)\n",
    "research_result.loc[4, 'Model_name']='CatBoostRegressor'\n",
    "research_result.loc[4, 'Learning_time']=learning_time\n",
    "research_result.loc[4, 'Predict_time']=prediction_time\n",
    "research_result.loc[4, 'RMSE']=RMSE_catboost\n",
    "\n",
    "give_me_importance (model_catboost)"
   ]
  },
  {
   "cell_type": "markdown",
   "metadata": {},
   "source": [
    "## Анализ моделей"
   ]
  },
  {
   "cell_type": "code",
   "execution_count": 26,
   "metadata": {},
   "outputs": [
    {
     "name": "stdout",
     "output_type": "stream",
     "text": [
      "      RMSE Learning_time Predict_time             Model_name\n",
      "0  2855.83     0.0552599    0.0448999       LinearRegression\n",
      "1  1751.93       1.14257     0.034708  DecisionTreeRegressor\n",
      "2  1609.86       13.1908      0.48015  RandomForestRegressor\n",
      "3  1631.22       574.826     0.720429          LGBMRegressor\n",
      "4  2038.88       18.7226    0.0235176      CatBoostRegressor\n"
     ]
    }
   ],
   "source": [
    "print(research_result)"
   ]
  },
  {
   "cell_type": "markdown",
   "metadata": {},
   "source": [
    "* Дерево решений предсказывает значительно лучше, чем линейная модель, однако время обучения и предсказания значительно выросло.\n",
    "* Случайный лес предсказывает точнее, чем дерево решений, однако у данной модели длинее время обучения и предсказания.\n",
    "* У LGB-модели качество предсказаний примерно как у случайного леса, она дольше обучается и немного медленнее предсказывает.\n",
    "* Catboost-модель выдает качество предсказаний чуть лучше, чем линейная модель и имеет довольно долгое время обучения, но быстрое предсказание.\n",
    "* Самая высокая точность предсказания по RMSE у случайного леса и LGB-модели, самое короткое время обучения и предсказания у линейной регрессии."
   ]
  }
 ],
 "metadata": {
  "ExecuteTimeLog": [
   {
    "duration": 476,
    "start_time": "2021-08-02T18:04:21.756Z"
   },
   {
    "duration": 4184,
    "start_time": "2021-08-02T18:09:48.892Z"
   },
   {
    "duration": 882,
    "start_time": "2021-08-02T18:09:53.079Z"
   },
   {
    "duration": 946,
    "start_time": "2021-08-02T18:09:53.966Z"
   },
   {
    "duration": 472,
    "start_time": "2021-08-02T18:09:54.915Z"
   },
   {
    "duration": 953,
    "start_time": "2021-08-02T18:09:55.390Z"
   },
   {
    "duration": 6123,
    "start_time": "2021-08-02T18:09:56.346Z"
   },
   {
    "duration": 14,
    "start_time": "2021-08-02T18:10:02.472Z"
   },
   {
    "duration": 351,
    "start_time": "2021-08-02T18:10:02.489Z"
   },
   {
    "duration": 272,
    "start_time": "2021-08-02T18:10:02.844Z"
   },
   {
    "duration": 182,
    "start_time": "2021-08-02T18:10:03.119Z"
   },
   {
    "duration": 84798,
    "start_time": "2021-08-02T18:10:03.303Z"
   },
   {
    "duration": 68,
    "start_time": "2021-08-02T18:11:28.104Z"
   },
   {
    "duration": 65,
    "start_time": "2021-08-02T18:11:28.176Z"
   },
   {
    "duration": 787,
    "start_time": "2021-08-02T18:11:28.244Z"
   },
   {
    "duration": 32,
    "start_time": "2021-08-02T18:11:29.033Z"
   },
   {
    "duration": 11,
    "start_time": "2021-08-02T18:11:29.069Z"
   },
   {
    "duration": 126,
    "start_time": "2021-08-02T18:11:29.083Z"
   },
   {
    "duration": 4,
    "start_time": "2021-08-02T18:11:29.214Z"
   },
   {
    "duration": 12,
    "start_time": "2021-08-02T18:11:29.221Z"
   },
   {
    "duration": 11,
    "start_time": "2021-08-02T18:11:29.236Z"
   },
   {
    "duration": 198,
    "start_time": "2021-08-02T18:11:29.258Z"
   },
   {
    "duration": 1624,
    "start_time": "2021-08-02T18:11:29.460Z"
   },
   {
    "duration": 14134,
    "start_time": "2021-08-02T18:11:31.087Z"
   },
   {
    "duration": 576182,
    "start_time": "2021-08-02T18:11:45.224Z"
   },
   {
    "duration": 19150,
    "start_time": "2021-08-02T18:21:21.409Z"
   },
   {
    "duration": 8,
    "start_time": "2021-08-02T18:21:40.562Z"
   }
  ],
  "kernelspec": {
   "display_name": "Python 3",
   "language": "python",
   "name": "python3"
  },
  "language_info": {
   "codemirror_mode": {
    "name": "ipython",
    "version": 3
   },
   "file_extension": ".py",
   "mimetype": "text/x-python",
   "name": "python",
   "nbconvert_exporter": "python",
   "pygments_lexer": "ipython3",
   "version": "3.7.8"
  },
  "toc": {
   "base_numbering": 1,
   "nav_menu": {},
   "number_sections": true,
   "sideBar": true,
   "skip_h1_title": true,
   "title_cell": "Table of Contents",
   "title_sidebar": "Contents",
   "toc_cell": false,
   "toc_position": {},
   "toc_section_display": true,
   "toc_window_display": false
  }
 },
 "nbformat": 4,
 "nbformat_minor": 2
}
