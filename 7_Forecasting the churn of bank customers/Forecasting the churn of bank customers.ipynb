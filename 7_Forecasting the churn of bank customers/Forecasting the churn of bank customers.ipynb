{
 "cells": [
  {
   "cell_type": "markdown",
   "metadata": {},
   "source": [
    "# Прогнозирование оттока клиентов банка"
   ]
  },
  {
   "cell_type": "markdown",
   "metadata": {},
   "source": [
    "[Описание данных](#Описание-данных)\n",
    "\n",
    "[Изучение общей информации](#Изучение-общей-информации)\n",
    "\n",
    "[Подготовка данных](#Подготовка-данных)\n",
    "\n",
    "[Исследование задачи](#Исследование-задачи)\n",
    "\n",
    "[Борьба с дисбалансом](#Борьба-с-дисбалансом)\n",
    "\n",
    "[Тестирование модели](#Тестирование-модели)"
   ]
  },
  {
   "cell_type": "markdown",
   "metadata": {},
   "source": [
    "# Изучение общей информации "
   ]
  },
  {
   "cell_type": "code",
   "execution_count": 1,
   "metadata": {},
   "outputs": [],
   "source": [
    "import pandas as pd\n",
    "from sklearn.tree import DecisionTreeClassifier\n",
    "from sklearn.ensemble import RandomForestClassifier\n",
    "from sklearn.linear_model import LogisticRegression\n",
    "from sklearn.model_selection import train_test_split\n",
    "from sklearn.preprocessing import OrdinalEncoder \n",
    "from sklearn.preprocessing import StandardScaler\n",
    "from sklearn.metrics import accuracy_score\n",
    "from sklearn.metrics import f1_score\n",
    "import numpy as np\n",
    "import matplotlib.pyplot as plt\n",
    "from sklearn.metrics import precision_score, recall_score\n",
    "from sklearn.metrics import f1_score\n",
    "from sklearn.metrics import roc_auc_score\n",
    "from sklearn.metrics import roc_curve\n",
    "\n",
    "data = pd.read_csv('/datasets/Churn.csv')\n",
    "# print(data)\n",
    "# print(data.info())\n",
    "# print('==============================')\n",
    "\n",
    "def info(data): # Функция пробегает по признакам датафрейма и оценивает распределение\n",
    "\n",
    "    for column in data.columns:       \n",
    "            import plotly.express as px\n",
    "            print(data[column].describe())\n",
    "            fig = px.histogram(data, x = column, marginal = 'box', title = 'Распределение '+ column)\n",
    "            fig.show()\n",
    "            \n",
    "# info(data)"
   ]
  },
  {
   "cell_type": "markdown",
   "metadata": {},
   "source": [
    "## Вывод"
   ]
  },
  {
   "cell_type": "markdown",
   "metadata": {},
   "source": [
    "Таблица открыта и изучена. Таблица имеет 10000 строк и 14 столбцов. Визуальное изучение таблицы показало множество пропущенных значений. Использовали describe() и unique() для категориальных переменных, что позволило нам оценить распределение некоторых признаков и увидеть аномалии."
   ]
  },
  {
   "cell_type": "markdown",
   "metadata": {},
   "source": [
    "# Подготовка данных"
   ]
  },
  {
   "cell_type": "code",
   "execution_count": 2,
   "metadata": {},
   "outputs": [
    {
     "name": "stdout",
     "output_type": "stream",
     "text": [
      "RowNumber          0\n",
      "CustomerId         0\n",
      "Surname            0\n",
      "CreditScore        0\n",
      "Geography          0\n",
      "Gender             0\n",
      "Age                0\n",
      "Tenure             0\n",
      "Balance            0\n",
      "NumOfProducts      0\n",
      "HasCrCard          0\n",
      "IsActiveMember     0\n",
      "EstimatedSalary    0\n",
      "Exited             0\n",
      "dtype: int64\n",
      "<class 'pandas.core.frame.DataFrame'>\n",
      "RangeIndex: 10000 entries, 0 to 9999\n",
      "Data columns (total 11 columns):\n",
      "CreditScore        10000 non-null int64\n",
      "Geography          10000 non-null object\n",
      "Gender             10000 non-null object\n",
      "Age                10000 non-null int64\n",
      "Tenure             10000 non-null float64\n",
      "Balance            10000 non-null float64\n",
      "NumOfProducts      10000 non-null int64\n",
      "HasCrCard          10000 non-null int64\n",
      "IsActiveMember     10000 non-null int64\n",
      "EstimatedSalary    10000 non-null float64\n",
      "Exited             10000 non-null int64\n",
      "dtypes: float64(3), int64(6), object(2)\n",
      "memory usage: 859.5+ KB\n",
      "None\n"
     ]
    }
   ],
   "source": [
    "tenure_median = data['Tenure'].median()\n",
    "data['Tenure'] = data['Tenure'].fillna(tenure_median) # заполняем медианным значением \n",
    "my_data = data.drop(['RowNumber', 'CustomerId', 'Surname'], axis=1) # исключаем из дальнейшего исследования  \n",
    "print(data.isnull().sum())\n",
    "print(my_data.info())\n",
    "encoder = OrdinalEncoder() # проводим кодирование категориальных признаков\n",
    "data_ordinal = pd.DataFrame(encoder.fit_transform(my_data), columns=my_data.columns) # проводим кодирование категориальных признаков"
   ]
  },
  {
   "cell_type": "markdown",
   "metadata": {},
   "source": [
    "# Исследование задачи"
   ]
  },
  {
   "cell_type": "markdown",
   "metadata": {},
   "source": [
    "## Исследование баланса классов"
   ]
  },
  {
   "cell_type": "code",
   "execution_count": 3,
   "metadata": {},
   "outputs": [
    {
     "data": {
      "text/plain": [
       "0    7963\n",
       "1    2037\n",
       "Name: Exited, dtype: int64"
      ]
     },
     "execution_count": 3,
     "metadata": {},
     "output_type": "execute_result"
    }
   ],
   "source": [
    "my_data.Exited.value_counts( )"
   ]
  },
  {
   "cell_type": "markdown",
   "metadata": {},
   "source": [
    "## Разделение данных на выборки "
   ]
  },
  {
   "cell_type": "code",
   "execution_count": 4,
   "metadata": {},
   "outputs": [
    {
     "name": "stdout",
     "output_type": "stream",
     "text": [
      "(6000, 10)\n",
      "(6000,)\n",
      "(2000, 10)\n",
      "(2000,)\n",
      "(2000, 10)\n",
      "(2000,)\n",
      "8035    0.0\n",
      "369     0.0\n",
      "3812    0.0\n",
      "5949    1.0\n",
      "5788    1.0\n",
      "7487    1.0\n",
      "6036    0.0\n",
      "3278    0.0\n",
      "1222    0.0\n",
      "4557    0.0\n",
      "Name: Exited, dtype: float64\n"
     ]
    }
   ],
   "source": [
    "y = data_ordinal['Exited']\n",
    "\n",
    "data_train, data_temp = train_test_split(data_ordinal, test_size = 0.4, random_state=12345, stratify = y) # Разбили исходный df на тренировочную 60% и временную выборки 40%\n",
    "data_valid, data_test = train_test_split(data_temp, test_size = 0.5, random_state=12345) # Разбили временную выборку на тестовую и валидационную 50\\50\n",
    "\n",
    "features_train = data_train.drop(['Exited'], axis=1)\n",
    "target_train = data_train['Exited']\n",
    "\n",
    "print(features_train.shape)\n",
    "print(target_train.shape)\n",
    "\n",
    "features_valid = data_valid.drop(['Exited'], axis=1)\n",
    "target_valid = data_valid['Exited']\n",
    "\n",
    "print(features_valid.shape)\n",
    "print(target_valid.shape)\n",
    "\n",
    "features_test = data_test.drop(['Exited'], axis=1)\n",
    "target_test = data_test['Exited']\n",
    "\n",
    "print(features_test.shape)\n",
    "# print(features_test.head(10))\n",
    "print(target_test.shape)\n",
    "print(target_test.head(10))"
   ]
  },
  {
   "cell_type": "markdown",
   "metadata": {},
   "source": [
    "## Масштабирование признаков"
   ]
  },
  {
   "cell_type": "code",
   "execution_count": 5,
   "metadata": {},
   "outputs": [],
   "source": [
    "# numeric = ['CreditScore', 'Tenure', 'Balance', 'Age','NumOfProducts', 'EstimatedSalary']\n",
    "# scaler = StandardScaler()\n",
    "# scaler.fit(features_train[numeric])\n",
    "# pd.options.mode.chained_assignment = None\n",
    "# features_train[numeric] = scaler.transform(features_train[numeric])\n",
    "# features_valid[numeric] = scaler.transform(features_valid[numeric])\n",
    "# print(features_train.head())"
   ]
  },
  {
   "cell_type": "markdown",
   "metadata": {},
   "source": [
    "## Исследование моделей"
   ]
  },
  {
   "cell_type": "code",
   "execution_count": 6,
   "metadata": {},
   "outputs": [
    {
     "name": "stdout",
     "output_type": "stream",
     "text": [
      "Глубина дерева: 7\n",
      "Доля правильных ответов: 0.8595\n",
      "0.7925\n",
      "F1 - мера: 0.4857496902106567\n"
     ]
    }
   ],
   "source": [
    "#Изучение моделей без учёта дисбаланса\n",
    "# Дерево решений\n",
    "\n",
    "result_tree = 0\n",
    "tree_depth = 0\n",
    "\n",
    "for depth in range(1, 20, 1):\n",
    "    model_tree = DecisionTreeClassifier(random_state=12345, max_depth=depth)\n",
    "    # инициализировали модель DecisionTreeClassifier с параметром random_state=12345 и max_depth=depth\n",
    "    model_tree.fit(features_train, target_train) # обучаем модель на тренировочной выборке\n",
    "    predictions_valid = model_tree.predict(features_valid) # получаем предсказания модели на валидационной выборке\n",
    "    accuracy_tree = accuracy_score(target_valid, predictions_valid)\n",
    "    \n",
    "    if accuracy_tree > result_tree:\n",
    "        result_tree = accuracy_tree\n",
    "        tree_depth = depth\n",
    "\n",
    "print(\"Глубина дерева:\", tree_depth)\n",
    "print(\"Доля правильных ответов:\", result_tree)\n",
    "print(model_tree.score(features_valid, target_valid))\n",
    "print(\"F1 - мера:\", f1_score(target_valid, predictions_valid))"
   ]
  },
  {
   "cell_type": "code",
   "execution_count": 7,
   "metadata": {},
   "outputs": [
    {
     "name": "stdout",
     "output_type": "stream",
     "text": [
      "Количество деревьев: 17\n",
      "Доля правильных ответов: 0.862\n",
      "Accuracy наилучшей модели на валидационной выборке: 0.866\n",
      "0.862\n",
      "F1 - мера: 0.5415282392026578\n"
     ]
    }
   ],
   "source": [
    "# Cлучайный лес\n",
    "\n",
    "result_forest = 0\n",
    "estimators = 0\n",
    "\n",
    "for n in range(1, 20, 1):\n",
    "    model_forest = RandomForestClassifier(random_state=12345, max_depth=n, n_estimators = n, min_samples_leaf = n) \n",
    "    model_forest.fit(features_train, target_train) # обучаем модель на тренировочной выборке\n",
    "    result = model_forest.score(features_valid, target_valid) # считаем качество модели на валидационной выборке\n",
    "    predictions_valid = model_forest.predict(features_valid) # получаем предсказания модели на валидационной выборке\n",
    "    accuracy_forest = accuracy_score(target_valid, predictions_valid)\n",
    "    if result > result_forest:\n",
    "        result_forest = result #  сохраняем наилучшее значение метрики accuracy на валидационных данных\n",
    "        estimators = n\n",
    "        \n",
    "print(\"Количество деревьев:\", estimators)\n",
    "print('Доля правильных ответов:', accuracy_forest)\n",
    "print(\"Accuracy наилучшей модели на валидационной выборке:\", result_forest)\n",
    "print(model_forest.score(features_valid, target_valid))\n",
    "print(\"F1 - мера:\",f1_score(target_valid, predictions_valid))"
   ]
  },
  {
   "cell_type": "code",
   "execution_count": 8,
   "metadata": {},
   "outputs": [
    {
     "name": "stdout",
     "output_type": "stream",
     "text": [
      "0.8105\n",
      "0.8105\n",
      "F1 - мера: 0.24652087475149104\n"
     ]
    }
   ],
   "source": [
    "# Логистическая регрессия\n",
    "model_regression = LogisticRegression(random_state=12345, solver='liblinear') # инициализируем модель LogisticRegression\n",
    "model_regression.fit(features_train, target_train) # обучаем модель на тренировочной выборке\n",
    "result_regression = model_regression.score(features_valid, target_valid) # считаем качество модели на валидационной выборке\n",
    "predictions_valid = model_regression.predict(features_valid)\n",
    "print(result_regression)\n",
    "print(model_regression.score(features_valid, target_valid))\n",
    "print(\"F1 - мера:\", f1_score(target_valid, predictions_valid))"
   ]
  },
  {
   "cell_type": "markdown",
   "metadata": {},
   "source": [
    "## Вывод"
   ]
  },
  {
   "cell_type": "markdown",
   "metadata": {},
   "source": [
    "По результатам исследования моделей без учёта дисбаланса классов наибольшее значение F1-меры показала модель \"Случайный лес\"."
   ]
  },
  {
   "cell_type": "markdown",
   "metadata": {},
   "source": [
    "# Борьба с дисбалансом"
   ]
  },
  {
   "cell_type": "code",
   "execution_count": 9,
   "metadata": {},
   "outputs": [
    {
     "name": "stdout",
     "output_type": "stream",
     "text": [
      "(8444, 10)\n",
      "(8444,)\n"
     ]
    }
   ],
   "source": [
    "# Увеличение выборки (Upsampling)\n",
    "from sklearn.utils import shuffle\n",
    "\n",
    "def upsample(features, target, repeat):\n",
    "    features_zeros = features_train[target_train == 0] #признаки объектов с ответом «0»;\n",
    "    features_ones = features_train[target_train == 1] #признаки объектов с ответом «1»;\n",
    "    target_zeros = target_train[target_train == 0]  #целевой признак объектов, у которых ответы только «0»;\n",
    "    target_ones = target_train[target_train == 1] #целевой признак объектов, у которых ответы только «1».\n",
    "\n",
    "    features_upsampled = shuffle(pd.concat([features_zeros] + [features_ones] * repeat))\n",
    "    target_upsampled = shuffle(pd.concat([target_zeros] + [target_ones] * repeat))\n",
    "  \n",
    "    return features_upsampled, target_upsampled     \n",
    "\n",
    "\n",
    "features_upsampled, target_upsampled = upsample(features_train, target_train, 3)\n",
    "\n",
    "print(features_upsampled.shape)\n",
    "print(target_upsampled.shape)"
   ]
  },
  {
   "cell_type": "code",
   "execution_count": 10,
   "metadata": {},
   "outputs": [
    {
     "data": {
      "image/png": "[encoded data removed]",
      "text/plain": [
       "<Figure size 432x288 with 1 Axes>"
      ]
     },
     "metadata": {
      "needs_background": "light"
     },
     "output_type": "display_data"
    },
    {
     "data": {
      "image/png": "[encoded data removed]",
      "text/plain": [
       "<Figure size 432x288 with 1 Axes>"
      ]
     },
     "metadata": {
      "needs_background": "light"
     },
     "output_type": "display_data"
    },
    {
     "name": "stdout",
     "output_type": "stream",
     "text": [
      "Глубина дерева: 3\n",
      "Accuracy: 0.8125\n",
      "0.8085\n",
      "F1 - мера: 0.5019505851755526\n",
      "AUC-ROC: 0.6886606508466602\n"
     ]
    }
   ],
   "source": [
    "# Дерево решений\n",
    "\n",
    "result_tree = 0\n",
    "tree_depth = 0\n",
    "\n",
    "for depth in range(1, 20, 1):\n",
    "    model_tree = DecisionTreeClassifier(class_weight='balanced', random_state=12345, max_depth=depth)\n",
    "    #     model_tree.fit(features_upsampled, target_upsampled) \n",
    "    model_tree.fit(features_train, target_train)\n",
    "    predictions_valid = model_tree.predict(features_valid) \n",
    "    accuracy_tree = accuracy_score(target_valid, predictions_valid)\n",
    "    \n",
    "    if accuracy_tree > result_tree:\n",
    "        result_tree = accuracy_tree\n",
    "        tree_depth = depth\n",
    "\n",
    "\n",
    "probabilities_valid = model_tree.predict_proba(features_valid)\n",
    "probabilities_one_valid = probabilities_valid[:, 1]\n",
    "auc_roc = roc_auc_score(target_valid, probabilities_one_valid)\n",
    "fpr, tpr, thresholds = roc_curve(target_valid, probabilities_one_valid)\n",
    "plt.figure()\n",
    "plt.plot([0, 1], [0, 1], linestyle='--') # ROC-кривая случайной модели \n",
    "plt.figure()\n",
    "plt.plot(fpr, tpr) # < строим график >\n",
    "plt.ylim([0.0, 1.0]) # < применяем функции plt.xlim() и plt.ylim(), чтобы\n",
    "plt.xlim([0.0, 1.0]) #   установить границы осей от 0 до 1 >\n",
    "plt.xlabel('False Positive Rate') # < применяем функции plt.xlabel() и plt.ylabel(), чтобы\n",
    "plt.ylabel('True Positive Rate') #   подписать оси \"False Positive Rate\" и \"True Positive Rate\" >\n",
    "plt.title('ROC-кривая') # < добавляем к графику заголовок \"ROC-кривая\" функцией plt.title() >\n",
    "plt.show() \n",
    "\n",
    "print(\"Глубина дерева:\", tree_depth)\n",
    "print(\"Accuracy:\", result_tree)\n",
    "print(model_tree.score(features_valid, target_valid))\n",
    "print(\"F1 - мера:\", f1_score(target_valid, predictions_valid))\n",
    "print(\"AUC-ROC:\", auc_roc)"
   ]
  },
  {
   "cell_type": "code",
   "execution_count": 11,
   "metadata": {},
   "outputs": [
    {
     "data": {
      "image/png": "[encoded data removed]",
      "text/plain": [
       "<Figure size 432x288 with 1 Axes>"
      ]
     },
     "metadata": {
      "needs_background": "light"
     },
     "output_type": "display_data"
    },
    {
     "data": {
      "image/png": "[encoded data removed]",
      "text/plain": [
       "<Figure size 432x288 with 1 Axes>"
      ]
     },
     "metadata": {
      "needs_background": "light"
     },
     "output_type": "display_data"
    },
    {
     "name": "stdout",
     "output_type": "stream",
     "text": [
      "Количество деревьев: 2\n",
      "Accuracy наилучшей модели на валидационной выборке: 0.8375\n",
      "0.812\n",
      "F1 - мера: 0.5974304068522485\n",
      "AUC-ROC: 0.8533616056739664\n"
     ]
    }
   ],
   "source": [
    "# Cлучайный лес\n",
    "\n",
    "result_forest = 0\n",
    "estimators = 0\n",
    "\n",
    "for n in range(1, 20, 1):\n",
    "    model_forest = RandomForestClassifier(class_weight='balanced', random_state=12345, max_depth=depth, n_estimators = n, min_samples_leaf = n) \n",
    "#     model_forest.fit(features_upsampled, target_upsampled) \n",
    "    model_forest.fit(features_train, target_train)\n",
    "    result = model_forest.score(features_valid, target_valid) \n",
    "    predictions_valid = model_forest.predict(features_valid) \n",
    "#     accuracy_forest = accuracy_score(target_valid, predictions_valid)\n",
    "    if result > result_forest:\n",
    "        result_forest = result \n",
    "        estimators = n\n",
    "        \n",
    "probabilities_valid = model_forest.predict_proba(features_valid)\n",
    "probabilities_one_valid = probabilities_valid[:, 1]\n",
    "auc_roc = roc_auc_score(target_valid, probabilities_one_valid)\n",
    "fpr, tpr, thresholds = roc_curve(target_valid, probabilities_one_valid)\n",
    "plt.figure()\n",
    "plt.plot([0, 1], [0, 1], linestyle='--') \n",
    "plt.figure()\n",
    "plt.plot(fpr, tpr) \n",
    "plt.ylim([0.0, 1.0]) \n",
    "plt.xlim([0.0, 1.0]) \n",
    "plt.xlabel('False Positive Rate') \n",
    "plt.ylabel('True Positive Rate') \n",
    "plt.title('ROC-кривая') \n",
    "plt.show()        \n",
    "        \n",
    "print(\"Количество деревьев:\", estimators)\n",
    "print(\"Accuracy наилучшей модели на валидационной выборке:\", result_forest)\n",
    "print(model_forest.score(features_valid, target_valid))\n",
    "print(\"F1 - мера:\", f1_score(target_valid, predictions_valid))\n",
    "print(\"AUC-ROC:\", auc_roc)"
   ]
  },
  {
   "cell_type": "code",
   "execution_count": 12,
   "metadata": {},
   "outputs": [
    {
     "data": {
      "image/png": "[encoded data removed]",
      "text/plain": [
       "<Figure size 432x288 with 1 Axes>"
      ]
     },
     "metadata": {
      "needs_background": "light"
     },
     "output_type": "display_data"
    },
    {
     "data": {
      "image/png": "[encoded data removed]",
      "text/plain": [
       "<Figure size 432x288 with 1 Axes>"
      ]
     },
     "metadata": {
      "needs_background": "light"
     },
     "output_type": "display_data"
    },
    {
     "name": "stdout",
     "output_type": "stream",
     "text": [
      "0.704\n",
      "F1- мера: 0.48521739130434777\n",
      "AUC-ROC: 0.7702628596497642\n"
     ]
    }
   ],
   "source": [
    "# Логистическая регрессия\n",
    "\n",
    "model_regression = LogisticRegression(class_weight='balanced', random_state=12345, solver='liblinear') \n",
    "model_regression.fit(features_train, target_train) \n",
    "# model_regression.fit(features_upsampled, target_upsampled)\n",
    "predicted_valid = model_regression.predict(features_valid)\n",
    "probabilities_valid = model_regression.predict_proba(features_valid)\n",
    "probabilities_one_valid = probabilities_valid[:, 1]\n",
    "auc_roc = roc_auc_score(target_valid, probabilities_one_valid)\n",
    "fpr, tpr, thresholds = roc_curve(target_valid, probabilities_one_valid)\n",
    "plt.figure()\n",
    "plt.plot([0, 1], [0, 1], linestyle='--') \n",
    "plt.figure()\n",
    "plt.plot(fpr, tpr) \n",
    "plt.ylim([0.0, 1.0]) \n",
    "plt.xlim([0.0, 1.0]) \n",
    "plt.xlabel('False Positive Rate') \n",
    "plt.ylabel('True Positive Rate') \n",
    "plt.title('ROC-кривая') \n",
    "plt.show()\n",
    "    \n",
    "print(model_regression.score(features_valid, target_valid))\n",
    "print(\"F1- мера:\", f1_score(target_valid, predicted_valid))\n",
    "print(\"AUC-ROC:\", auc_roc)"
   ]
  },
  {
   "cell_type": "markdown",
   "metadata": {},
   "source": [
    "## Вывод "
   ]
  },
  {
   "cell_type": "markdown",
   "metadata": {},
   "source": [
    "* По результатам исследования моделей с учётом дисбаланса классов наилучшим образом себя показала модель \"Cлучайный лес\". У этой модели наиболее высокий показатель F1- меры, а также высокий показатель AUC-ROC.\n",
    "* Масштабирование повлияло в положительную сторону только на показатели моделей \"Логистическая регрессия\", как без учёта дисбаланса, так и с учётом. Поэтому для дальнейшего тестирования лучшей модели принято решение закомментировать масштабирование.\n",
    "* Увеличение выборки (upsampling) в нашем случае не оказало решающего действия в связи с чем не было использовано для финального тестирования наилучшей модели."
   ]
  },
  {
   "cell_type": "markdown",
   "metadata": {},
   "source": [
    "# Тестирование модели"
   ]
  },
  {
   "cell_type": "code",
   "execution_count": 13,
   "metadata": {},
   "outputs": [
    {
     "name": "stdout",
     "output_type": "stream",
     "text": [
      "Доля правильных ответов: 0.825\n",
      "F1 - мера: 0.6119733924611972\n",
      "AUC-ROC: 0.8551219351594674\n"
     ]
    },
    {
     "data": {
      "text/plain": [
       "'Feature ranking:'"
      ]
     },
     "metadata": {},
     "output_type": "display_data"
    },
    {
     "name": "stdout",
     "output_type": "stream",
     "text": [
      "1. feature 3 (0.331724)\n",
      "2. feature 6 (0.180171)\n",
      "3. feature 5 (0.131918)\n",
      "4. feature 9 (0.084589)\n",
      "5. feature 0 (0.082850)\n",
      "6. feature 8 (0.060561)\n",
      "7. feature 4 (0.045231)\n",
      "8. feature 1 (0.044924)\n",
      "9. feature 2 (0.025645)\n",
      "10. feature 7 (0.012386)\n"
     ]
    },
    {
     "data": {
      "image/png": "[encoded data removed]",
      "text/plain": [
       "<Figure size 432x288 with 1 Axes>"
      ]
     },
     "metadata": {
      "needs_background": "light"
     },
     "output_type": "display_data"
    }
   ],
   "source": [
    "# Cлучайный лес\n",
    "model_forest = RandomForestClassifier(class_weight='balanced', random_state=12345, max_depth=19, n_estimators = 9, min_samples_leaf = 9)\n",
    "model_forest.fit(features_train, target_train)\n",
    "predictions_forest_test = model_forest.predict(features_test)\n",
    "accuracy_forest = accuracy_score(target_test, predictions_forest_test)\n",
    "probabilities_test = model_forest.predict_proba(features_test)\n",
    "probabilities_one_test = probabilities_test[:, 1]\n",
    "auc_roc = roc_auc_score(target_test, probabilities_one_test)\n",
    "print(\"Доля правильных ответов:\", accuracy_forest)\n",
    "print(\"F1 - мера:\", f1_score(target_test, predictions_forest_test))\n",
    "print(\"AUC-ROC:\", auc_roc)\n",
    "\n",
    "\n",
    "def feature_scoring(scoring_model, features_data): # передаем в функцию тренированную модель и набор фичей \n",
    "    importances = scoring_model.feature_importances_ # присваиваем модели массив показателей важности признаков\n",
    "    std = np.std([tree.feature_importances_ for tree in scoring_model.estimators_], # вычисляем массив стандартных отклонений\n",
    "             axis=0)\n",
    "    indices = np.argsort(importances)[::-1] # сортируем и ревертим массив показателей важности\n",
    "\n",
    "#     print(features_data.info())\n",
    "    display(\"Feature ranking:\")\n",
    "\n",
    "    for f in range(features_data.shape[1]): \n",
    "        print(\"%d. feature %d (%f)\" % (f + 1, indices[f], importances[indices[f]])) # выводим важность признака для каждой фичи\n",
    "\n",
    "    # Изобразим на графике важность признаков\n",
    "    plt.figure()\n",
    "    plt.title(\"Feature importances\")\n",
    "    plt.bar(range(features_data.shape[1]), importances[indices],\n",
    "            color=\"r\", yerr=std[indices], align=\"center\")\n",
    "    plt.xticks(range(features_data.shape[1]), indices)\n",
    "    plt.xlim([-1, features_data.shape[1]])\n",
    "    plt.show()\n",
    "\n",
    "feature_scoring(model_forest, features_train)"
   ]
  },
  {
   "cell_type": "markdown",
   "metadata": {},
   "source": [
    "## Вывод  "
   ]
  },
  {
   "cell_type": "markdown",
   "metadata": {},
   "source": [
    "График показывает, что параметр \"Age\" сильно влияет на нашу модель, и при сборе данных нужно уделить ему внимание, от него зависит успешность предсказаний, а значит и успешность бизнеса. "
   ]
  }
 ],
 "metadata": {
  "ExecuteTimeLog": [
   {
    "duration": 1548,
    "start_time": "2021-07-30T15:39:58.500Z"
   },
   {
    "duration": 61,
    "start_time": "2021-07-30T15:40:00.052Z"
   },
   {
    "duration": 12,
    "start_time": "2021-07-30T15:40:00.116Z"
   },
   {
    "duration": 54,
    "start_time": "2021-07-30T15:40:00.132Z"
   },
   {
    "duration": 3,
    "start_time": "2021-07-30T15:40:00.188Z"
   },
   {
    "duration": 610,
    "start_time": "2021-07-30T15:40:00.193Z"
   },
   {
    "duration": 1826,
    "start_time": "2021-07-30T15:40:00.806Z"
   },
   {
    "duration": 234,
    "start_time": "2021-07-30T15:40:02.635Z"
   },
   {
    "duration": 111,
    "start_time": "2021-07-30T15:40:02.873Z"
   },
   {
    "duration": 1144,
    "start_time": "2021-07-30T15:40:02.986Z"
   },
   {
    "duration": 2442,
    "start_time": "2021-07-30T15:40:04.132Z"
   },
   {
    "duration": 800,
    "start_time": "2021-07-30T15:40:06.577Z"
   },
   {
    "duration": 601,
    "start_time": "2021-07-30T15:40:07.382Z"
   }
  ],
  "kernelspec": {
   "display_name": "Python 3",
   "language": "python",
   "name": "python3"
  },
  "language_info": {
   "codemirror_mode": {
    "name": "ipython",
    "version": 3
   },
   "file_extension": ".py",
   "mimetype": "text/x-python",
   "name": "python",
   "nbconvert_exporter": "python",
   "pygments_lexer": "ipython3",
   "version": "3.7.8"
  },
  "toc": {
   "base_numbering": 1,
   "nav_menu": {},
   "number_sections": true,
   "sideBar": true,
   "skip_h1_title": false,
   "title_cell": "Table of Contents",
   "title_sidebar": "Contents",
   "toc_cell": false,
   "toc_position": {},
   "toc_section_display": true,
   "toc_window_display": false
  }
 },
 "nbformat": 4,
 "nbformat_minor": 2
}
