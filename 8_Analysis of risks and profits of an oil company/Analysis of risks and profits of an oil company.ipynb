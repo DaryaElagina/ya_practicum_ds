{
 "cells": [
  {
   "cell_type": "markdown",
   "metadata": {},
   "source": [
    "# Анализ рисков и прибыли нефтедобывающей компании"
   ]
  },
  {
   "cell_type": "markdown",
   "metadata": {},
   "source": [
    "[Загрузка и подготовка данных](#Загрузка-и-подготовка-данных)\n",
    "\n",
    "[Обучение и проверка модели](#Обучение-и-проверка-модели)\n",
    "\n",
    "[Подготовка к расчёту прибыли](#Подготовка-к-расчёту-прибыли)\n",
    "\n",
    "[Расчёт прибыли и рисков](#Расчёт-прибыли-и-рисков)"
   ]
  },
  {
   "cell_type": "markdown",
   "metadata": {},
   "source": [
    "# Загрузка и подготовка данных"
   ]
  },
  {
   "cell_type": "code",
   "execution_count": 1,
   "metadata": {},
   "outputs": [],
   "source": [
    "import pandas as pd\n",
    "import numpy as np\n",
    "import matplotlib.pyplot as plt\n",
    "from sklearn.metrics import mean_squared_error\n",
    "from sklearn.linear_model import LinearRegression\n",
    "from sklearn.model_selection import train_test_split \n",
    "from sklearn.preprocessing import StandardScaler\n",
    "\n",
    "geo_data_0 = pd.read_csv('/datasets/geo_data_0.csv')\n",
    "geo_data_1 = pd.read_csv('/datasets/geo_data_1.csv')\n",
    "geo_data_2 = pd.read_csv('/datasets/geo_data_2.csv')\n",
    "\n",
    "def info(df): #Функция пробегает по признакам датафрейма и если тип у признака object, то смотрит уникальные значения, в противном случае оценивается распределение\n",
    "    for column in df.columns:\n",
    "        \n",
    "        print(df[column].describe())\n",
    "        print()\n",
    "    \n",
    "        if df[column].dtype == 'object':\n",
    "            \n",
    "            print(column)\n",
    "            print(df[column].unique())\n",
    "                    \n",
    "        else:\n",
    "            \n",
    "            print(column)\n",
    "            import plotly.express as px\n",
    "            fig = px.histogram(df, x = column, marginal = 'box', title = 'Распределение '+ column)\n",
    "            fig.show()\n",
    "            \n",
    "#info(geo_data_0)\n",
    "#info(geo_data_1)\n",
    "#info(geo_data_2)"
   ]
  },
  {
   "cell_type": "code",
   "execution_count": 2,
   "metadata": {},
   "outputs": [
    {
     "name": "stdout",
     "output_type": "stream",
     "text": [
      "id         0\n",
      "f0         0\n",
      "f1         0\n",
      "f2         0\n",
      "product    0\n",
      "dtype: int64\n",
      "id         0\n",
      "f0         0\n",
      "f1         0\n",
      "f2         0\n",
      "product    0\n",
      "dtype: int64\n",
      "id         0\n",
      "f0         0\n",
      "f1         0\n",
      "f2         0\n",
      "product    0\n",
      "dtype: int64\n",
      "0\n",
      "0\n",
      "0\n"
     ]
    }
   ],
   "source": [
    "print(geo_data_0.isnull().sum())\n",
    "print(geo_data_1.isnull().sum())\n",
    "print(geo_data_2.isnull().sum())\n",
    "print(geo_data_0.duplicated().sum())\n",
    "print(geo_data_1.duplicated().sum())\n",
    "print(geo_data_2.duplicated().sum())"
   ]
  },
  {
   "cell_type": "markdown",
   "metadata": {},
   "source": [
    "## Вывод"
   ]
  },
  {
   "cell_type": "markdown",
   "metadata": {},
   "source": [
    "* Таблицы открыты и изучены. Все 3 таблицы имеют по 100000 строк и 5 столбцов. Пропущенных значений и дубликатов не обнаружено. По одному столбцу содержат данные типа object, остальные столбцы содержат данные типа float64. Оценили распределение некоторых признаков. "
   ]
  },
  {
   "cell_type": "markdown",
   "metadata": {},
   "source": [
    "# Обучение и проверка модели"
   ]
  },
  {
   "cell_type": "code",
   "execution_count": 3,
   "metadata": {},
   "outputs": [],
   "source": [
    "# constants\n",
    "state = np.random.RandomState(12345)"
   ]
  },
  {
   "cell_type": "code",
   "execution_count": 4,
   "metadata": {},
   "outputs": [],
   "source": [
    "def train_model(data):\n",
    "    target = data['product']\n",
    "    features = data.drop(['product', 'id'] , axis=1)\n",
    "    features_train, features_valid, target_train, target_valid = train_test_split(features, target, test_size=0.25, random_state=12345)\n",
    "    model = LinearRegression()\n",
    "    model.fit(features_train, target_train)\n",
    "    \n",
    "    print('Важность признаков', model.coef_)\n",
    "    \n",
    "    predicted_valid = model.predict(features_valid) # получаем предсказания модели на валидационых данных\n",
    "    predicted_valid_series = pd.Series(predicted_valid, index=features_valid.index)\n",
    "    \n",
    "    RMSE = np.sqrt(mean_squared_error(target_valid, predicted_valid)) # среднеквадратичная ошибка\n",
    "    predicted_raw_oil_mean = predicted_valid.mean() # предсказанный средний объем запасов сырья в регионе\n",
    "    raw_oil_mean = data['product'].mean() # средний объем запасов сырья в регионе по имеющимся данным\n",
    "       \n",
    "    print(\"RMSE =\", RMSE)\n",
    "    print(\"Средний запас предсказанного сырья:\", predicted_raw_oil_mean)\n",
    "    print(\"Средний запас сырья:\", raw_oil_mean)\n",
    "    \n",
    "    bestDf = pd.DataFrame(predicted_valid) # создаем датафрейм с 2 колонками[prediction, product]\n",
    "    bestDf.index = target_valid.index\n",
    "    bestDf = bestDf.join(target_valid)\n",
    "    \n",
    "    top_200 = bestDf.sort_values(by=0, ascending=False)[:200] # сортируем по предсказанию и выбираем 200 лучших\n",
    "    \n",
    "    return [predicted_valid_series, target_valid, top_200]"
   ]
  },
  {
   "cell_type": "code",
   "execution_count": 5,
   "metadata": {},
   "outputs": [
    {
     "name": "stdout",
     "output_type": "stream",
     "text": [
      "Важность признаков [  3.59280585 -14.09794419   6.59316617]\n",
      "RMSE = 37.5794217150813\n",
      "Средний запас предсказанного сырья: 92.59256778438038\n",
      "Средний запас сырья: 92.50000000000001\n",
      "\n",
      "\n",
      "Важность признаков [-1.44940967e-01 -2.20278542e-02  2.69511805e+01]\n",
      "RMSE = 0.893099286775616\n",
      "Средний запас предсказанного сырья: 68.728546895446\n",
      "Средний запас сырья: 68.82500000000002\n",
      "\n",
      "\n",
      "Важность признаков [ 0.03093573 -0.04187719  5.70854243]\n",
      "RMSE = 40.02970873393434\n",
      "Средний запас предсказанного сырья: 94.96504596800489\n",
      "Средний запас сырья: 95.00000000000004\n",
      "\n",
      "\n"
     ]
    }
   ],
   "source": [
    "for i in [geo_data_0, geo_data_1, geo_data_2]:\n",
    "    train_model(i)\n",
    "    print(\"\\n\")"
   ]
  },
  {
   "cell_type": "markdown",
   "metadata": {},
   "source": [
    "## Вывод "
   ]
  },
  {
   "cell_type": "markdown",
   "metadata": {},
   "source": [
    "* Данные разделены на обучающую и валидационную выборки в соотношении 75:25;\n",
    "* Модель обучена, сделаны предсказания на валидационной выборке;\n",
    "* Предсказания на валидационной выборке и правильные ответы сохранены в отдельный датафрейм;\n",
    "* На экран выведен средний запас предсказанного сырья и RMSE модели;\n",
    "* Наименьшую среднеквадратичную ошибку имеет второй регион (geo_data_1);\n",
    "* Наибольший запас предсказанного сырья имеет третий регион (geo_data_2);\n",
    "* Наибольшей важностью обладает третий признак (f2)."
   ]
  },
  {
   "cell_type": "markdown",
   "metadata": {},
   "source": [
    "# Подготовка к расчёту прибыли"
   ]
  },
  {
   "cell_type": "code",
   "execution_count": 6,
   "metadata": {},
   "outputs": [],
   "source": [
    "# constants\n",
    "one_product_price = 450000\n",
    "regional_budget = 10000000000"
   ]
  },
  {
   "cell_type": "code",
   "execution_count": 7,
   "metadata": {},
   "outputs": [
    {
     "name": "stdout",
     "output_type": "stream",
     "text": [
      "Минимальный объем сырья для безубыточности: 111 тыс. баррелей\n",
      "Средний запас в регионе равен 92.50000000000001\n",
      "Средний запас в регионе равен 68.82500000000002\n",
      "Средний запас в регионе равен 95.00000000000004\n"
     ]
    }
   ],
   "source": [
    "no_loss_raw_oil_mean = regional_budget/one_product_price/200\n",
    "print('Минимальный объем сырья для безубыточности:', round(no_loss_raw_oil_mean), 'тыс. баррелей')\n",
    "for i in [geo_data_0, geo_data_1, geo_data_2]:\n",
    "    product_mean = i[\"product\"].mean()\n",
    "    print('Средний запас в регионе равен', product_mean)"
   ]
  },
  {
   "cell_type": "markdown",
   "metadata": {},
   "source": [
    "## Вывод "
   ]
  },
  {
   "cell_type": "markdown",
   "metadata": {},
   "source": [
    "* Ключевые значения для расчётов сохранены в отдельных переменных;\n",
    "* Достаточный объём сырья для безубыточной разработки новой скважины равен 111 тыс. баррелей. Средний запас сырья в каждом регионе меньше рассчитанного объема сырья для безубыточности. Применение ML для выбора лучших скважин в данном случае позволит сократить риски убытков."
   ]
  },
  {
   "cell_type": "markdown",
   "metadata": {},
   "source": [
    "# Расчёт прибыли и рисков "
   ]
  },
  {
   "cell_type": "code",
   "execution_count": 8,
   "metadata": {},
   "outputs": [],
   "source": [
    "def top_200_profit(df_top_200):\n",
    "    income = df_top_200['product'].sum()*one_product_price\n",
    "    profit = income - regional_budget\n",
    "    print('Доход в регионе:', income)\n",
    "    print('Прибыль в регионе:', profit)\n",
    "    return [income, profit]"
   ]
  },
  {
   "cell_type": "code",
   "execution_count": 9,
   "metadata": {},
   "outputs": [],
   "source": [
    "def best_oil_hole_profit (target, probabilities, count): # суммарная прибыль с 200 лучших отобранных скважин\n",
    "    probs_sorted = probabilities.sort_values(ascending=False)\n",
    "    selected = target[probs_sorted.index][:count]\n",
    "    profit = (selected.sum() * one_product_price - regional_budget)\n",
    "    return profit"
   ]
  },
  {
   "cell_type": "code",
   "execution_count": 10,
   "metadata": {},
   "outputs": [],
   "source": [
    "def bootstrap(predictions, target):\n",
    "    values = []\n",
    "    loss = 0\n",
    "    \n",
    "    for i in range(1000):\n",
    "        target_sample = target.sample(n = 500, replace=True, random_state=state) # выборка рандомных объемов 500 скважин \n",
    "        probs_sample = predictions[target_sample.index] # отбираем по индексу предсказанные объемы запасов сырья в регионе для 500 выбранных ранее скважин\n",
    "        profit = best_oil_hole_profit(target_sample, probs_sample, 200) # считаем прибыльность 200 лучших отобранных скважин\n",
    "        values.append(profit)\n",
    "        if profit < 0:\n",
    "            loss += 1\n",
    "     \n",
    "    values = pd.Series(values)\n",
    "    risk = (loss / len(values))*100\n",
    "    upper_border = values.quantile(0.975)\n",
    "    lower_border = values.quantile(0.025)\n",
    "    \n",
    "    print(\"Средняя прибыль отобранных месторождений\", values.mean())\n",
    "    print(\"Верхняя граница доверительного интервала\", upper_border)\n",
    "    print(\"Нижняя граница доверительного интервала\", lower_border)\n",
    "    print(\"Риск убытков в регионе\", risk)"
   ]
  },
  {
   "cell_type": "code",
   "execution_count": 11,
   "metadata": {},
   "outputs": [
    {
     "name": "stdout",
     "output_type": "stream",
     "text": [
      "Важность признаков [  3.59280585 -14.09794419   6.59316617]\n",
      "RMSE = 37.5794217150813\n",
      "Средний запас предсказанного сырья: 92.59256778438038\n",
      "Средний запас сырья: 92.50000000000001\n",
      "Доход в регионе: 13320826043.139853\n",
      "Прибыль в регионе: 3320826043.1398525\n",
      "Средняя прибыль отобранных месторождений 425938526.9105923\n",
      "Верхняя граница доверительного интервала 947976353.358369\n",
      "Нижняя граница доверительного интервала -102090094.83793654\n",
      "Риск убытков в регионе 6.0\n",
      "\n",
      "\n",
      "Важность признаков [-1.44940967e-01 -2.20278542e-02  2.69511805e+01]\n",
      "RMSE = 0.893099286775616\n",
      "Средний запас предсказанного сырья: 68.728546895446\n",
      "Средний запас сырья: 68.82500000000002\n",
      "Доход в регионе: 12415086696.68151\n",
      "Прибыль в регионе: 2415086696.681511\n",
      "Средняя прибыль отобранных месторождений 518259493.69732493\n",
      "Верхняя граница доверительного интервала 953612982.0669085\n",
      "Нижняя граница доверительного интервала 128123231.43308629\n",
      "Риск убытков в регионе 0.3\n",
      "\n",
      "\n",
      "Важность признаков [ 0.03093573 -0.04187719  5.70854243]\n",
      "RMSE = 40.02970873393434\n",
      "Средний запас предсказанного сырья: 94.96504596800489\n",
      "Средний запас сырья: 95.00000000000004\n",
      "Доход в регионе: 12710349963.599833\n",
      "Прибыль в регионе: 2710349963.5998325\n",
      "Средняя прибыль отобранных месторождений 420194005.34405005\n",
      "Верхняя граница доверительного интервала 989629939.844574\n",
      "Нижняя граница доверительного интервала -115852609.16001143\n",
      "Риск убытков в регионе 6.2\n",
      "\n",
      "\n"
     ]
    }
   ],
   "source": [
    "for i in [geo_data_0, geo_data_1, geo_data_2]:\n",
    "    predicted_valid_series, target_valid, top_200 = train_model(i)\n",
    "    top_200_profit(top_200)\n",
    "    bootstrap(predicted_valid_series, target_valid)\n",
    "    print(\"\\n\")"
   ]
  },
  {
   "cell_type": "markdown",
   "metadata": {},
   "source": [
    "## Вывод"
   ]
  },
  {
   "cell_type": "markdown",
   "metadata": {},
   "source": [
    "* Применена техника Bootstrap для расчета распределения прибыли по регионам;\n",
    "* Лучший регион по средней прибыли отобранных месторождений geo_data_1 (около 517 млн.руб.);\n",
    "* Худший регион по средней прибыли отобранных месторождений geo_data_2 (около 412 млн.руб.);\n",
    "* Риск убытков регионов geo_data_0 и geo_data_2 более чем в 2 раза превышают допустимые 2,5%. Данные регионы не подходят для разработки;\n",
    "* Риск убытков в регионе geo_data_1 составляет 1,2%, прогнозируемая прибыль около 517 млн.руб. - регион подходит для ведения разработки месторождений."
   ]
  }
 ],
 "metadata": {
  "ExecuteTimeLog": [
   {
    "duration": 1851,
    "start_time": "2021-07-30T16:06:57.404Z"
   },
   {
    "duration": 226,
    "start_time": "2021-07-30T16:06:59.258Z"
   },
   {
    "duration": 4,
    "start_time": "2021-07-30T16:06:59.486Z"
   },
   {
    "duration": 9,
    "start_time": "2021-07-30T16:06:59.493Z"
   },
   {
    "duration": 664,
    "start_time": "2021-07-30T16:06:59.504Z"
   },
   {
    "duration": 4,
    "start_time": "2021-07-30T16:07:00.170Z"
   },
   {
    "duration": 19,
    "start_time": "2021-07-30T16:07:00.176Z"
   },
   {
    "duration": 10,
    "start_time": "2021-07-30T16:07:00.197Z"
   },
   {
    "duration": 8,
    "start_time": "2021-07-30T16:07:00.210Z"
   },
   {
    "duration": 12,
    "start_time": "2021-07-30T16:07:00.220Z"
   },
   {
    "duration": 16927,
    "start_time": "2021-07-30T16:07:00.234Z"
   }
  ],
  "kernelspec": {
   "display_name": "Python 3",
   "language": "python",
   "name": "python3"
  },
  "language_info": {
   "codemirror_mode": {
    "name": "ipython",
    "version": 3
   },
   "file_extension": ".py",
   "mimetype": "text/x-python",
   "name": "python",
   "nbconvert_exporter": "python",
   "pygments_lexer": "ipython3",
   "version": "3.7.8"
  },
  "toc": {
   "base_numbering": 1,
   "nav_menu": {},
   "number_sections": true,
   "sideBar": true,
   "skip_h1_title": true,
   "title_cell": "Table of Contents",
   "title_sidebar": "Contents",
   "toc_cell": false,
   "toc_position": {},
   "toc_section_display": true,
   "toc_window_display": false
  }
 },
 "nbformat": 4,
 "nbformat_minor": 2
}
