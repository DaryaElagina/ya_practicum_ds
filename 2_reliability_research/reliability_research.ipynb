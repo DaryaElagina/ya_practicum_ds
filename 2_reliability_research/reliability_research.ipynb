{
 "cells": [
  {
   "cell_type": "markdown",
   "source": [
    "## Исследование надёжности заёмщиков"
   ],
   "metadata": {}
  },
  {
   "cell_type": "markdown",
   "source": [
    "### Шаг 1. Изучение общей информации."
   ],
   "metadata": {}
  },
  {
   "cell_type": "code",
   "execution_count": 1,
   "source": [
    "import pandas as pd\r\n",
    "import numpy as np\r\n",
    "data = pd.read_csv('/datasets/data.csv')\r\n",
    "print(data)\r\n",
    "print(data.info())"
   ],
   "outputs": [
    {
     "output_type": "stream",
     "name": "stdout",
     "text": [
      "       children  days_employed  dob_years education  education_id  \\\n",
      "0             1   -8437.673028         42    высшее             0   \n",
      "1             1   -4024.803754         36   среднее             1   \n",
      "2             0   -5623.422610         33   Среднее             1   \n",
      "3             3   -4124.747207         32   среднее             1   \n",
      "4             0  340266.072047         53   среднее             1   \n",
      "...         ...            ...        ...       ...           ...   \n",
      "21520         1   -4529.316663         43   среднее             1   \n",
      "21521         0  343937.404131         67   среднее             1   \n",
      "21522         1   -2113.346888         38   среднее             1   \n",
      "21523         3   -3112.481705         38   среднее             1   \n",
      "21524         2   -1984.507589         40   среднее             1   \n",
      "\n",
      "          family_status  family_status_id gender income_type  debt  \\\n",
      "0       женат / замужем                 0      F   сотрудник     0   \n",
      "1       женат / замужем                 0      F   сотрудник     0   \n",
      "2       женат / замужем                 0      M   сотрудник     0   \n",
      "3       женат / замужем                 0      M   сотрудник     0   \n",
      "4      гражданский брак                 1      F   пенсионер     0   \n",
      "...                 ...               ...    ...         ...   ...   \n",
      "21520  гражданский брак                 1      F   компаньон     0   \n",
      "21521   женат / замужем                 0      F   пенсионер     0   \n",
      "21522  гражданский брак                 1      M   сотрудник     1   \n",
      "21523   женат / замужем                 0      M   сотрудник     1   \n",
      "21524   женат / замужем                 0      F   сотрудник     0   \n",
      "\n",
      "        total_income                       purpose  \n",
      "0      253875.639453                 покупка жилья  \n",
      "1      112080.014102       приобретение автомобиля  \n",
      "2      145885.952297                 покупка жилья  \n",
      "3      267628.550329    дополнительное образование  \n",
      "4      158616.077870               сыграть свадьбу  \n",
      "...              ...                           ...  \n",
      "21520  224791.862382             операции с жильем  \n",
      "21521  155999.806512          сделка с автомобилем  \n",
      "21522   89672.561153                  недвижимость  \n",
      "21523  244093.050500  на покупку своего автомобиля  \n",
      "21524   82047.418899         на покупку автомобиля  \n",
      "\n",
      "[21525 rows x 12 columns]\n",
      "<class 'pandas.core.frame.DataFrame'>\n",
      "RangeIndex: 21525 entries, 0 to 21524\n",
      "Data columns (total 12 columns):\n",
      "children            21525 non-null int64\n",
      "days_employed       19351 non-null float64\n",
      "dob_years           21525 non-null int64\n",
      "education           21525 non-null object\n",
      "education_id        21525 non-null int64\n",
      "family_status       21525 non-null object\n",
      "family_status_id    21525 non-null int64\n",
      "gender              21525 non-null object\n",
      "income_type         21525 non-null object\n",
      "debt                21525 non-null int64\n",
      "total_income        19351 non-null float64\n",
      "purpose             21525 non-null object\n",
      "dtypes: float64(2), int64(5), object(5)\n",
      "memory usage: 2.0+ MB\n",
      "None\n"
     ]
    }
   ],
   "metadata": {}
  },
  {
   "cell_type": "markdown",
   "source": [
    "### Вывод"
   ],
   "metadata": {}
  },
  {
   "cell_type": "markdown",
   "source": [
    "Таблица открыта и изучена. Таблица имеет 21525 строк и 12 столбцов. Визуальное изучение таблицы показало наличие отрицательных значений, пропущенных значений, слов написанных в разном регистре."
   ],
   "metadata": {}
  },
  {
   "cell_type": "markdown",
   "source": [
    "### Шаг 2. Предобработка данных"
   ],
   "metadata": {}
  },
  {
   "cell_type": "markdown",
   "source": [
    "### Обработка пропусков"
   ],
   "metadata": {}
  },
  {
   "cell_type": "code",
   "execution_count": 4,
   "source": [
    "print(data['gender'].value_counts())\r\n",
    "print(data['dob_years'].value_counts())\r\n",
    "print(data['children'].value_counts())\r\n",
    "print(\"============================================\")\r\n",
    "data['gender'] = data['gender'].replace('XNA', np.NaN)\r\n",
    "data['dob_years'] = data['dob_years'].replace(0, np.NaN)\r\n",
    "data['children'] = data['children'].replace(20, np.NaN)\r\n",
    "print(\"============================================\")\r\n",
    "print(data.isnull().sum())\r\n",
    "data.dropna(subset = ['dob_years','gender', 'children'], inplace = True)\r\n",
    "print(data.isnull().sum())\r\n",
    "# print(data.info())\r\n",
    "print(\"============================================\")\r\n",
    "\r\n",
    "data['days_employed'] = data['days_employed'].apply(abs) # Переводим отрицательные значения в положительные\r\n",
    "# print(data.head(10)) #Проверяем выполнился ли перевод отрицательных значений в положительные в первых 10 строках\r\n",
    "\r\n",
    "print('==============================')\r\n",
    "def checkDaysEmployed(row): #Создаем функцию проверки максимально возможного числа рабочих дней\r\n",
    "    # В РФ можно работать с 14 лет\r\n",
    "    # 248 рабочих дней в году, но мы берем 365, т.к. похоже в датасете используется 365\r\n",
    "    maxnumber_of_workingdays = (row['dob_years'] - 14) * 365\r\n",
    "    if(row['days_employed'] > maxnumber_of_workingdays):  #Если указанный трудовой стаж больше максимально возможного числа рабочих дней\r\n",
    "        row['days_employed'] = row['days_employed']/24 #Значит, возможно, стаж указан в часах. Поделим на 24, чтобы получить число дней.\r\n",
    "        return row\r\n",
    "    return row\r\n",
    "\r\n",
    "data = data.apply(checkDaysEmployed, axis=1) #Применяем функцию к каждой строке \r\n",
    "print(data.head(10)) #Проверяем выполнился ли перевод подозрительно высоких значений стажа в дни в первых 10 строках\r\n",
    "\r\n",
    "print(\"============================================\")\r\n",
    "print(data.isnull().sum()) # Находим столбцы, в которых имеются строки с пропущенными данными\r\n",
    "total_income_median = data['total_income'].median() # Находим медианные значения в столбце'total_income'\r\n",
    "days_employed_median = data['days_employed'].median() # Находим медианные значения в столбце 'days_employed'\r\n",
    "print(total_income_median)\r\n",
    "print(\"============================================\")\r\n",
    "data['total_income'] = data['total_income'].fillna(total_income_median) # Заменяем пустые строки в столбце'total_income' на медианное значение \r\n",
    "data['days_employed'] = data['days_employed'].fillna(days_employed_median) # Заменяем пустые строки в столбце'days_employed'на медианное значение \r\n",
    "print(data.isnull().sum()) # Проверяем остались ли столбцы, в которых имеются строки с пропущенными данными\r\n",
    "print(\"============================================\")"
   ],
   "outputs": [
    {
     "output_type": "stream",
     "name": "stdout",
     "text": [
      "F      14236\n",
      "M       7288\n",
      "XNA        1\n",
      "Name: gender, dtype: int64\n",
      "35    617\n",
      "40    609\n",
      "41    607\n",
      "34    603\n",
      "38    598\n",
      "42    597\n",
      "33    581\n",
      "39    573\n",
      "31    560\n",
      "36    555\n",
      "44    547\n",
      "29    545\n",
      "30    540\n",
      "48    538\n",
      "37    537\n",
      "50    514\n",
      "43    513\n",
      "32    510\n",
      "49    508\n",
      "28    503\n",
      "45    497\n",
      "27    493\n",
      "56    487\n",
      "52    484\n",
      "47    480\n",
      "54    479\n",
      "46    475\n",
      "58    461\n",
      "57    460\n",
      "53    459\n",
      "51    448\n",
      "59    444\n",
      "55    443\n",
      "26    408\n",
      "60    377\n",
      "25    357\n",
      "61    355\n",
      "62    352\n",
      "63    269\n",
      "64    265\n",
      "24    264\n",
      "23    254\n",
      "65    194\n",
      "66    183\n",
      "22    183\n",
      "67    167\n",
      "21    111\n",
      "0     101\n",
      "68     99\n",
      "69     85\n",
      "70     65\n",
      "71     58\n",
      "20     51\n",
      "72     33\n",
      "19     14\n",
      "73      8\n",
      "74      6\n",
      "75      1\n",
      "Name: dob_years, dtype: int64\n",
      " 0     14149\n",
      " 1      4818\n",
      " 2      2055\n",
      " 3       330\n",
      " 20       76\n",
      "-1        47\n",
      " 4        41\n",
      " 5         9\n",
      "Name: children, dtype: int64\n",
      "============================================\n",
      "============================================\n",
      "children              76\n",
      "days_employed       2174\n",
      "dob_years            101\n",
      "education              0\n",
      "education_id           0\n",
      "family_status          0\n",
      "family_status_id       0\n",
      "gender                 1\n",
      "income_type            0\n",
      "debt                   0\n",
      "total_income        2174\n",
      "purpose                0\n",
      "dtype: int64\n",
      "children               0\n",
      "days_employed       2155\n",
      "dob_years              0\n",
      "education              0\n",
      "education_id           0\n",
      "family_status          0\n",
      "family_status_id       0\n",
      "gender                 0\n",
      "income_type            0\n",
      "debt                   0\n",
      "total_income        2155\n",
      "purpose                0\n",
      "dtype: int64\n",
      "============================================\n",
      "==============================\n",
      "   children  days_employed  dob_years education  education_id  \\\n",
      "0       1.0    8437.673028       42.0    высшее             0   \n",
      "1       1.0    4024.803754       36.0   среднее             1   \n",
      "2       0.0    5623.422610       33.0   Среднее             1   \n",
      "3       3.0    4124.747207       32.0   среднее             1   \n",
      "4       0.0   14177.753002       53.0   среднее             1   \n",
      "5       0.0     926.185831       27.0    высшее             0   \n",
      "6       0.0    2879.202052       43.0    высшее             0   \n",
      "7       0.0     152.779569       50.0   СРЕДНЕЕ             1   \n",
      "8       2.0    6929.865299       35.0    ВЫСШЕЕ             0   \n",
      "9       0.0    2188.756445       41.0   среднее             1   \n",
      "\n",
      "      family_status  family_status_id gender income_type  debt   total_income  \\\n",
      "0   женат / замужем                 0      F   сотрудник     0  253875.639453   \n",
      "1   женат / замужем                 0      F   сотрудник     0  112080.014102   \n",
      "2   женат / замужем                 0      M   сотрудник     0  145885.952297   \n",
      "3   женат / замужем                 0      M   сотрудник     0  267628.550329   \n",
      "4  гражданский брак                 1      F   пенсионер     0  158616.077870   \n",
      "5  гражданский брак                 1      M   компаньон     0  255763.565419   \n",
      "6   женат / замужем                 0      F   компаньон     0  240525.971920   \n",
      "7   женат / замужем                 0      M   сотрудник     0  135823.934197   \n",
      "8  гражданский брак                 1      F   сотрудник     0   95856.832424   \n",
      "9   женат / замужем                 0      M   сотрудник     0  144425.938277   \n",
      "\n",
      "                      purpose  \n",
      "0               покупка жилья  \n",
      "1     приобретение автомобиля  \n",
      "2               покупка жилья  \n",
      "3  дополнительное образование  \n",
      "4             сыграть свадьбу  \n",
      "5               покупка жилья  \n",
      "6           операции с жильем  \n",
      "7                 образование  \n",
      "8       на проведение свадьбы  \n",
      "9     покупка жилья для семьи  \n",
      "============================================\n",
      "children               0\n",
      "days_employed       2155\n",
      "dob_years              0\n",
      "education              0\n",
      "education_id           0\n",
      "family_status          0\n",
      "family_status_id       0\n",
      "gender                 0\n",
      "income_type            0\n",
      "debt                   0\n",
      "total_income        2155\n",
      "purpose                0\n",
      "dtype: int64\n",
      "145017.93753253992\n",
      "============================================\n",
      "children            0\n",
      "days_employed       0\n",
      "dob_years           0\n",
      "education           0\n",
      "education_id        0\n",
      "family_status       0\n",
      "family_status_id    0\n",
      "gender              0\n",
      "income_type         0\n",
      "debt                0\n",
      "total_income        0\n",
      "purpose             0\n",
      "dtype: int64\n",
      "============================================\n"
     ]
    }
   ],
   "metadata": {
    "scrolled": true
   }
  },
  {
   "cell_type": "markdown",
   "source": [
    "### Вывод"
   ],
   "metadata": {}
  },
  {
   "cell_type": "markdown",
   "source": [
    "* В столбцах 'days_employed' и 'total_income' обнаружены пропущенные данные. В них записан NaN. В столбце 'gender' обнаружено непригодное для анализа значение 'XNA' в единственном экземпляре. В столбце 'dob_years' обнаружено значение возраста 0 лет, встречающееся 101 раз. В столбце 'children' обнаружено значение 20 детей, встречающееся 76 раз и, судя по всему, является опечаткой.\n",
    "* Пропуски в столбцах 'days_employed' и 'total_income' заполнили медианными значениями; пропуски в столбцах 'gender', 'dob_years' и 'children' удалены, в виду их небольшого количества и невозможности их заполнения. \n",
    "* Пропущенные значения могут появляться из-за невнимательности (человеческий фактор), либо по техническим причинам. Также при сборе данных некоторые респонденты не желают указывать некоторые данные."
   ],
   "metadata": {}
  },
  {
   "cell_type": "markdown",
   "source": [
    "### Замена типа данных"
   ],
   "metadata": {}
  },
  {
   "cell_type": "code",
   "execution_count": 5,
   "source": [
    "print(data.info()) # Получаем сводную информацию о таблице\n",
    "data['total_income'] = data['total_income'].astype('int') # Переводим данные столбца 'total_income' из float в int для удобства\n",
    "data['days_employed'] = data['days_employed'].astype('int')# Переводим данные столбца 'days_employed' из float в int \n",
    "data['children'] = data['children'].astype('int')\n",
    "data['dob_years'] = data['dob_years'].astype('int')\n",
    "print(data.info()) # Получаем сводную информацию о таблице, чтобы проверить изменился ли тип данных\n",
    "print(data.head(10)) #Проверяем выполнился ли перевод дробных чисел в целые в первых 10 строках"
   ],
   "outputs": [
    {
     "output_type": "stream",
     "name": "stdout",
     "text": [
      "<class 'pandas.core.frame.DataFrame'>\n",
      "Int64Index: 21348 entries, 0 to 21524\n",
      "Data columns (total 12 columns):\n",
      "children            21348 non-null float64\n",
      "days_employed       21348 non-null float64\n",
      "dob_years           21348 non-null float64\n",
      "education           21348 non-null object\n",
      "education_id        21348 non-null int64\n",
      "family_status       21348 non-null object\n",
      "family_status_id    21348 non-null int64\n",
      "gender              21348 non-null object\n",
      "income_type         21348 non-null object\n",
      "debt                21348 non-null int64\n",
      "total_income        21348 non-null float64\n",
      "purpose             21348 non-null object\n",
      "dtypes: float64(4), int64(3), object(5)\n",
      "memory usage: 2.1+ MB\n",
      "None\n",
      "<class 'pandas.core.frame.DataFrame'>\n",
      "Int64Index: 21348 entries, 0 to 21524\n",
      "Data columns (total 12 columns):\n",
      "children            21348 non-null int64\n",
      "days_employed       21348 non-null int64\n",
      "dob_years           21348 non-null int64\n",
      "education           21348 non-null object\n",
      "education_id        21348 non-null int64\n",
      "family_status       21348 non-null object\n",
      "family_status_id    21348 non-null int64\n",
      "gender              21348 non-null object\n",
      "income_type         21348 non-null object\n",
      "debt                21348 non-null int64\n",
      "total_income        21348 non-null int64\n",
      "purpose             21348 non-null object\n",
      "dtypes: int64(7), object(5)\n",
      "memory usage: 2.1+ MB\n",
      "None\n",
      "   children  days_employed  dob_years education  education_id  \\\n",
      "0         1           8437         42    высшее             0   \n",
      "1         1           4024         36   среднее             1   \n",
      "2         0           5623         33   Среднее             1   \n",
      "3         3           4124         32   среднее             1   \n",
      "4         0          14177         53   среднее             1   \n",
      "5         0            926         27    высшее             0   \n",
      "6         0           2879         43    высшее             0   \n",
      "7         0            152         50   СРЕДНЕЕ             1   \n",
      "8         2           6929         35    ВЫСШЕЕ             0   \n",
      "9         0           2188         41   среднее             1   \n",
      "\n",
      "      family_status  family_status_id gender income_type  debt  total_income  \\\n",
      "0   женат / замужем                 0      F   сотрудник     0        253875   \n",
      "1   женат / замужем                 0      F   сотрудник     0        112080   \n",
      "2   женат / замужем                 0      M   сотрудник     0        145885   \n",
      "3   женат / замужем                 0      M   сотрудник     0        267628   \n",
      "4  гражданский брак                 1      F   пенсионер     0        158616   \n",
      "5  гражданский брак                 1      M   компаньон     0        255763   \n",
      "6   женат / замужем                 0      F   компаньон     0        240525   \n",
      "7   женат / замужем                 0      M   сотрудник     0        135823   \n",
      "8  гражданский брак                 1      F   сотрудник     0         95856   \n",
      "9   женат / замужем                 0      M   сотрудник     0        144425   \n",
      "\n",
      "                      purpose  \n",
      "0               покупка жилья  \n",
      "1     приобретение автомобиля  \n",
      "2               покупка жилья  \n",
      "3  дополнительное образование  \n",
      "4             сыграть свадьбу  \n",
      "5               покупка жилья  \n",
      "6           операции с жильем  \n",
      "7                 образование  \n",
      "8       на проведение свадьбы  \n",
      "9     покупка жилья для семьи  \n"
     ]
    }
   ],
   "metadata": {}
  },
  {
   "cell_type": "markdown",
   "source": [
    "### Вывод"
   ],
   "metadata": {}
  },
  {
   "cell_type": "markdown",
   "source": [
    "Для того, чтобы перевести данные в нужный тип, применили метод astype(). В качестве аргумента передали строку int."
   ],
   "metadata": {}
  },
  {
   "cell_type": "markdown",
   "source": [
    "### Обработка дубликатов"
   ],
   "metadata": {}
  },
  {
   "cell_type": "code",
   "execution_count": 6,
   "source": [
    "print(data.duplicated()) # Запрашиваем отображение всех строк таблицы. Там, где есть дубликаты, будет значение True, где дубликата нет - False .\n",
    "print ('Дубликатов в таблице:', data.duplicated().sum()) # Получаем количество строк-дубликатов\n",
    "data['education'] = data['education'].str.lower() # Все символы в строках столбца 'education' приводим к нижнему регистру  \n",
    "print(data['education'].head(20)) # Проверяем приведение к единому нижнему регистру\n",
    "print ('Дубликатов в таблице:', data.duplicated().sum()) # Вновь запрашиваем количество строк-дубликатов; из-за приведения к общему регистру число повторов увеличилось.\n",
    "data = data.drop_duplicates().reset_index(drop= True) # Удаляем дубликаты, используя метод reset_index(), при этом вместе с повторяющимися строками удаляются их индексы. \n",
    "print ('Дубликатов в таблице:', data.duplicated().sum()) # Проверяем остались ли дубликаты"
   ],
   "outputs": [
    {
     "output_type": "stream",
     "name": "stdout",
     "text": [
      "0        False\n",
      "1        False\n",
      "2        False\n",
      "3        False\n",
      "4        False\n",
      "         ...  \n",
      "21520    False\n",
      "21521    False\n",
      "21522    False\n",
      "21523    False\n",
      "21524    False\n",
      "Length: 21348, dtype: bool\n",
      "Дубликатов в таблице: 54\n",
      "0                  высшее\n",
      "1                 среднее\n",
      "2                 среднее\n",
      "3                 среднее\n",
      "4                 среднее\n",
      "5                  высшее\n",
      "6                  высшее\n",
      "7                 среднее\n",
      "8                  высшее\n",
      "9                 среднее\n",
      "10                 высшее\n",
      "11                среднее\n",
      "12                среднее\n",
      "13    неоконченное высшее\n",
      "14                 высшее\n",
      "15                среднее\n",
      "16                среднее\n",
      "17                 высшее\n",
      "18                среднее\n",
      "19                среднее\n",
      "Name: education, dtype: object\n",
      "Дубликатов в таблице: 71\n",
      "Дубликатов в таблице: 0\n"
     ]
    }
   ],
   "metadata": {}
  },
  {
   "cell_type": "markdown",
   "source": [
    "### Вывод"
   ],
   "metadata": {}
  },
  {
   "cell_type": "markdown",
   "source": [
    "* Приведение данных к общему регистру в столбце 'education' привело к увеличению количества строк-дубликатов. Для нахождения и удаления дубликатов использовали методы duplicated() и drop_duplicates(), так как они применяются ко всему датафрейму. Метод value_counts(), который анализирует столбец, в данном случае, не применяли. \n",
    "\n",
    "* Основные причины возникновения дубликатов — повторные представления, неправильное соединение данных из разных источников, ошибки пользователя при занесении информации."
   ],
   "metadata": {}
  },
  {
   "cell_type": "markdown",
   "source": [
    "### Лемматизация"
   ],
   "metadata": {}
  },
  {
   "cell_type": "code",
   "execution_count": 7,
   "source": [
    "from pymystem3 import Mystem # Импортируем библиотеку pymystem3 \n",
    "m = Mystem()\n",
    "\n",
    "def myLemma(text): # Создаем функцию, которая\n",
    "    lemmText = ''.join(m.lemmatize(text)) # лемматизирует текст, итоговый результат склеивает вызовом метода join()\n",
    "    return lemmText.rstrip('\\n') # возвращает результат, удаляя '\\n' в конце каждой строки  \n",
    "\n",
    "data['purpose'] = data['purpose'].apply(myLemma) # В ячейки заданного столбца записываем значения, возвращаемые функцией при помощи метода apply() \n",
    "print(data['purpose'].head(20))\n",
    "\n",
    "from collections import Counter\n",
    "def cout_unique_values(column):\n",
    "    lemmas = []\n",
    "    for text in column:\n",
    "        lemmas += m.lemmatize(text)\n",
    "    return Counter(lemmas)\n",
    "\n",
    "\n",
    "print(cout_unique_values(data['purpose']))"
   ],
   "outputs": [
    {
     "output_type": "stream",
     "name": "stdout",
     "text": [
      "0                              покупка жилье\n",
      "1                    приобретение автомобиль\n",
      "2                              покупка жилье\n",
      "3                 дополнительный образование\n",
      "4                            сыграть свадьба\n",
      "5                              покупка жилье\n",
      "6                           операция с жилье\n",
      "7                                образование\n",
      "8                      на проведение свадьба\n",
      "9                    покупка жилье для семья\n",
      "10                      покупка недвижимость\n",
      "11         покупка коммерческий недвижимость\n",
      "12                           сыграть свадьба\n",
      "13                   приобретение автомобиль\n",
      "14                покупка жилой недвижимость\n",
      "15    строительство собственный недвижимость\n",
      "16                              недвижимость\n",
      "17                строительство недвижимость\n",
      "18           на покупка подержать автомобиль\n",
      "19                на покупка свой автомобиль\n",
      "Name: purpose, dtype: object\n",
      "Counter({' ': 33312, '\\n': 21277, 'недвижимость': 6306, 'покупка': 5851, 'жилье': 4421, 'автомобиль': 4269, 'образование': 3980, 'с': 2891, 'операция': 2583, 'свадьба': 2301, 'свой': 2219, 'на': 2200, 'строительство': 1866, 'высокий': 1360, 'получение': 1306, 'коммерческий': 1299, 'для': 1284, 'жилой': 1221, 'сделка': 934, 'заниматься': 900, 'дополнительный': 898, 'проведение': 760, 'сыграть': 756, 'сдача': 648, 'семья': 636, 'собственный': 627, 'со': 626, 'ремонт': 603, 'подержанный': 480, 'подержать': 472, 'приобретение': 459, 'профильный': 433})\n"
     ]
    }
   ],
   "metadata": {}
  },
  {
   "cell_type": "markdown",
   "source": [
    "### Вывод"
   ],
   "metadata": {}
  },
  {
   "cell_type": "markdown",
   "source": [
    "Импортировали библиотеку pymystem3. Создали функцию, которая лемматизирует текст, итоговый результат склеивает вызовом метода join() и возвращает результат, удаляя '\\n' в конце каждой строки. В ячейки заданного столбца записали значения, возвращаемые функцией при помощи метода apply()."
   ],
   "metadata": {}
  },
  {
   "cell_type": "markdown",
   "source": [
    "### Категоризация данных"
   ],
   "metadata": {}
  },
  {
   "cell_type": "code",
   "execution_count": 8,
   "source": [
    " def categorize(purpose): # Проводим категоризацию. На вход функции попадает цель кредита, а возвращает категорию \n",
    "    if 'образование' in purpose:\n",
    "         return 'образование'\n",
    "    if 'недвижимость' in purpose:\n",
    "         return 'недвижимость'\n",
    "    if 'автомобиль' in purpose:\n",
    "         return 'автомобиль'\n",
    "    if 'свадьба' in purpose:\n",
    "         return 'свадьба'\n",
    "    if 'жилье' in purpose:\n",
    "         return 'жилье'\n",
    "    else: \n",
    "         return purpose\n",
    "\n",
    "data['purpose'] = data['purpose'].apply(categorize) # В ячейки заданного столбца записываем категории, возвращаемые функцией \n",
    "data['purpose'] = data['purpose'].astype('category') # Проверка уникальности категорий и приведение к категориальному типу\n",
    "print(data['purpose'].head(10))\n",
    "print(data['purpose'].head(10).cat.codes)"
   ],
   "outputs": [
    {
     "output_type": "stream",
     "name": "stdout",
     "text": [
      "0          жилье\n",
      "1     автомобиль\n",
      "2          жилье\n",
      "3    образование\n",
      "4        свадьба\n",
      "5          жилье\n",
      "6          жилье\n",
      "7    образование\n",
      "8        свадьба\n",
      "9          жилье\n",
      "Name: purpose, dtype: category\n",
      "Categories (5, object): [автомобиль, жилье, недвижимость, образование, свадьба]\n",
      "0    1\n",
      "1    0\n",
      "2    1\n",
      "3    3\n",
      "4    4\n",
      "5    1\n",
      "6    1\n",
      "7    3\n",
      "8    4\n",
      "9    1\n",
      "dtype: int8\n"
     ]
    }
   ],
   "metadata": {}
  },
  {
   "cell_type": "markdown",
   "source": [
    "### Вывод"
   ],
   "metadata": {}
  },
  {
   "cell_type": "markdown",
   "source": [
    "Выделили 5 наиболее часто встречающихся целей кредита и перевели их в категории: \"автомобиль\", \"жилье\", \"недвижимость\", \"образование\", \"свадьба\"."
   ],
   "metadata": {}
  },
  {
   "cell_type": "markdown",
   "source": [
    "### Шаг 3. Поиск зависимостей."
   ],
   "metadata": {}
  },
  {
   "cell_type": "markdown",
   "source": [
    "### Ищем зависимость между наличием детей и возвратом кредита в срок."
   ],
   "metadata": {}
  },
  {
   "cell_type": "code",
   "execution_count": 9,
   "source": [
    "print(data['debt'].value_counts()) # Подсчитываем уникальные значения столбца и их количество \n",
    "print(data['children'].value_counts()) # Подсчитываем уникальные значения столбца и их количество, обнаружили отрицательное значение\n",
    "data['children'] = data['children'].apply(abs) # Переводим отрицательные значения в положительные\n",
    "print('=================================')\n",
    "\n",
    "data_pivot_children = data[['children', 'debt', 'family_status_id']].pivot_table(index=['children'], columns=['debt'], aggfunc='count') #Подготовили сводную таблицу\n",
    "data_pivot_children = data_pivot_children.fillna(0) # Заменим отсутствующее значение на 0. \n",
    "print(data_pivot_children)\n",
    "print('=================================')\n",
    "\n",
    "children_cat_count = data['children'].value_counts() # Создаем переменную, в которой количество должников соответствует числу детей \n",
    "def percentage_of_debtors_with_children(row): # Создали функцию, которая рассчитывает процент должников в зависимости от наличия детей \n",
    "    childrens = row['family_status_id'].name # Переменная, которая содержит число детей\n",
    "    row['debtors_children'] = (row['family_status_id', 1] / children_cat_count[childrens])*100 # Из сводной таблицы по очереди берется число должников имеющих, например, 0 детей, делится на число должников в этой группе (также имеющих 0 детей) и умножается на 100%\n",
    "    return row\n",
    "data_pivot_children = data_pivot_children.apply(percentage_of_debtors_with_children, axis=1) # Добавляем к сводной таблице столбец с процентом должников, имеющих детей\n",
    "print(data_pivot_children)"
   ],
   "outputs": [
    {
     "output_type": "stream",
     "name": "stdout",
     "text": [
      "0    19552\n",
      "1     1725\n",
      "Name: debt, dtype: int64\n",
      " 0    14021\n",
      " 1     4792\n",
      " 2     2039\n",
      " 3      328\n",
      "-1       47\n",
      " 4       41\n",
      " 5        9\n",
      "Name: children, dtype: int64\n",
      "=================================\n",
      "         family_status_id        \n",
      "debt                    0       1\n",
      "children                         \n",
      "0                 12963.0  1058.0\n",
      "1                  4397.0   442.0\n",
      "2                  1845.0   194.0\n",
      "3                   301.0    27.0\n",
      "4                    37.0     4.0\n",
      "5                     9.0     0.0\n",
      "=================================\n",
      "         family_status_id         debtors_children\n",
      "debt                    0       1                 \n",
      "children                                          \n",
      "0                 12963.0  1058.0         7.545824\n",
      "1                  4397.0   442.0         9.134119\n",
      "2                  1845.0   194.0         9.514468\n",
      "3                   301.0    27.0         8.231707\n",
      "4                    37.0     4.0         9.756098\n",
      "5                     9.0     0.0         0.000000\n"
     ]
    }
   ],
   "metadata": {}
  },
  {
   "cell_type": "markdown",
   "source": [
    "### Вывод"
   ],
   "metadata": {}
  },
  {
   "cell_type": "markdown",
   "source": [
    "Наиболее безопасными клиентами для банка являются бездетные семьи (7,5%) и семьи с 3 детьми (8,2%). Процент невозврата среди семей с 1, 2 и 4 детьми составляет 9,1, 9,5 и 9,8% соответственно, что превышает средний % невозврата (8%) и говорит о том, что это довольно рискованные группы. Заметили, что между семьями с 0 и 1 детьми осуществляется сильный скачок невозврата с 7 до 9 %, что говорит о том, что наличие детей значимо сказывается на невозврате."
   ],
   "metadata": {}
  },
  {
   "cell_type": "markdown",
   "source": [
    "### Исследуем зависимость между семейным положением и возвратом кредита в срок."
   ],
   "metadata": {}
  },
  {
   "cell_type": "code",
   "execution_count": 25,
   "source": [
    "print(data['family_status_id'].value_counts()) # Подсчитываем уникальные значения столбца и их количество \n",
    "data_pivot_family = data[['debt','family_status_id', 'family_status']].pivot_table(index=['family_status_id'], columns='debt', aggfunc='count')#Создаем сводную таблицу\n",
    "print(data_pivot_family) \n",
    "print('=====================================')\n",
    "fs_id_count = data['family_status_id'].value_counts()\n",
    "def percentage_of_debtors_with_family(row):# Создали функцию, которая рассчитывает процент должников в зависимости от семейного статуса\n",
    "    fs_id = row['family_status'].name # Переменная, которая содержит список семейных статусов\n",
    "    row['debtors_family'] = (row['family_status', 1] / fs_id_count[fs_id]) * 100 # Из сводной таблицы берется число должников имеющих определенный семейный статус, делится на число должников этого статуса и умножается на 100% \n",
    "    return row\n",
    "data_pivot_family = data_pivot_family.apply(percentage_of_debtors_with_family, axis=1) # Добавляем к сводной таблице столбец с процентом должников, имеющих определенный семейный статус\n",
    "print(data_pivot_family)"
   ],
   "outputs": [
    {
     "output_type": "stream",
     "name": "stdout",
     "text": [
      "0    12242\n",
      "1     4117\n",
      "4     2785\n",
      "3     1183\n",
      "2      950\n",
      "Name: family_status_id, dtype: int64\n",
      "                 family_status     \n",
      "debt                         0    1\n",
      "family_status_id                   \n",
      "0                        11318  924\n",
      "1                         3734  383\n",
      "2                          888   62\n",
      "3                         1099   84\n",
      "4                         2513  272\n",
      "=====================================\n",
      "                 family_status        debtors_family\n",
      "debt                         0      1               \n",
      "family_status_id                                    \n",
      "0                      11318.0  924.0       7.547786\n",
      "1                       3734.0  383.0       9.302890\n",
      "2                        888.0   62.0       6.526316\n",
      "3                       1099.0   84.0       7.100592\n",
      "4                       2513.0  272.0       9.766607\n"
     ]
    }
   ],
   "metadata": {}
  },
  {
   "cell_type": "markdown",
   "source": [
    "### Вывод"
   ],
   "metadata": {}
  },
  {
   "cell_type": "markdown",
   "source": [
    "По полученным данным самый высокий процент невозврата у должников, имеющих статус \"не женат/не замужем\" - 9,8% и \"в гражданском браке\" - 9,3%. Более низкие проценты невозврата имеют должники из категорий \"женат/замужем\" (7,5%), \"в разводе\" (7,1%), \"вдовцы\" (6,5%), что говорит нам о том, что для банка это более безопасные категории.\n",
    "Заметно, что между женатыми и неженатыми осуществляется сильный скачок невозврата с 7,5 до 9,8 %, что указывает на то, что семейный статус значимо сказывается на невозврате."
   ],
   "metadata": {}
  },
  {
   "cell_type": "markdown",
   "source": [
    "### Выясняем есть ли зависимость между уровнем дохода и возвратом кредита в срок."
   ],
   "metadata": {}
  },
  {
   "cell_type": "code",
   "execution_count": 26,
   "source": [
    "print(data['total_income'].describe()) #Посмотрели квартили и медиану, чтобы определить границы категорий ежемесячного дохода\n",
    "\n",
    "def categorize(row): # Проводим категоризацию. На вход функции попадает ежемесячный доход, а возвращает категорию \n",
    "    total_income = row['total_income']\n",
    "    income_cat = ''\n",
    "    if total_income > 195751:\n",
    "         income_cat = 'высокий доход'\n",
    "    if 195751 >= total_income > 145017:\n",
    "         income_cat = 'доход выше среднего'\n",
    "    if 145017 >= total_income > 107620:\n",
    "         income_cat = 'средний доход'\n",
    "    if 107620 >= total_income > 50000:\n",
    "         income_cat = 'доход ниже среднего'\n",
    "    if total_income <= 50000:\n",
    "         income_cat = 'низкий доход'\n",
    "    row['income_cat'] = income_cat\n",
    "    return row\n",
    "print('=====================================')\n",
    "data = data.apply(categorize, axis=1)\n",
    "\n",
    "\n",
    "income_group_full = data.groupby('income_cat')['debt'].count()\n",
    "income_group = (data[data['debt'] == 1].groupby('income_cat')['debt'].count() / income_group_full)*100\n",
    "print(income_group)"
   ],
   "outputs": [
    {
     "output_type": "stream",
     "name": "stdout",
     "text": [
      "count    2.127700e+04\n",
      "mean     1.652619e+05\n",
      "std      9.820259e+04\n",
      "min      2.066700e+04\n",
      "25%      1.076200e+05\n",
      "50%      1.450170e+05\n",
      "75%      1.957510e+05\n",
      "max      2.265604e+06\n",
      "Name: total_income, dtype: float64\n",
      "=====================================\n",
      "income_cat\n",
      "высокий доход          7.144200\n",
      "доход выше среднего    8.861351\n",
      "доход ниже среднего    8.121212\n",
      "низкий доход           6.216216\n",
      "средний доход          8.504952\n",
      "Name: debt, dtype: float64\n"
     ]
    }
   ],
   "metadata": {}
  },
  {
   "cell_type": "markdown",
   "source": [
    "### Вывод"
   ],
   "metadata": {}
  },
  {
   "cell_type": "markdown",
   "source": [
    "По полученным данным самый высокий процент невозврата у должников, имеющих доход \"выше среднего\", \"средний\" и \"ниже среднего\" - \n",
    "8,9, 8,5 и 8,1% соответственно. Наиболее низкие проценты невозврата имеют должники из, казалось бы, противоположных категорий \"низких\" (6,2%) и \"высоких\" (7,1%) доходов. По-видимому, эти категории доходов, являются более стабильными, в связи с чем и более безопасными для банка. \n",
    "Резкий переход от 6,2% в группе с низким доходом к 8,9% с доходом выше среднего указывает на значимую зависимость между уровнем дохода и возвратом кредита в срок."
   ],
   "metadata": {}
  },
  {
   "cell_type": "markdown",
   "source": [
    "### Исследуем влияние разных целей кредита на его возврат в срок."
   ],
   "metadata": {}
  },
  {
   "cell_type": "code",
   "execution_count": 27,
   "source": [
    "data_pivot_purpose = data[['debt','purpose', 'gender']].pivot_table(index=['purpose'], columns='debt', aggfunc='count') #Создаем сводную таблицу\n",
    "print(data_pivot_purpose) \n",
    "print('=================================')\n",
    "purpose_count = data['purpose'].value_counts()\n",
    "def percentage_of_debtors_with_purpose(row):  # Создали функцию, которая рассчитывает процент должников в зависимости от цели кредита\n",
    "    purpose_id = row['gender'].name # Переменная, которая содержит список целей\n",
    "    row['debtors_purpose'] = (row['gender', 1] / purpose_count[purpose_id]) * 100 # Из сводной таблицы берется число должников имеющих определенную цель кредита, делится число должников в конкретной категории и умножается на 100%\n",
    "    return row\n",
    "data_pivot_purpose = data_pivot_purpose.apply(percentage_of_debtors_with_purpose, axis=1) # Добавляем к сводной таблице столбец с процентом должников, имеющих определенную цель кредита\n",
    "print(data_pivot_purpose)"
   ],
   "outputs": [
    {
     "output_type": "stream",
     "name": "stdout",
     "text": [
      "             gender     \n",
      "debt              0    1\n",
      "purpose                 \n",
      "автомобиль     3871  398\n",
      "жилье          4115  306\n",
      "недвижимость   5835  471\n",
      "образование    3611  369\n",
      "свадьба        2120  181\n",
      "=================================\n",
      "              gender        debtors_purpose\n",
      "debt               0      1                \n",
      "purpose                                    \n",
      "автомобиль    3871.0  398.0        9.323026\n",
      "жилье         4115.0  306.0        6.921511\n",
      "недвижимость  5835.0  471.0        7.469077\n",
      "образование   3611.0  369.0        9.271357\n",
      "свадьба       2120.0  181.0        7.866145\n"
     ]
    }
   ],
   "metadata": {}
  },
  {
   "cell_type": "markdown",
   "source": [
    "### Вывод"
   ],
   "metadata": {}
  },
  {
   "cell_type": "markdown",
   "source": [
    "По полученным данным самый высокий процент невозврата (9,3%) у должников, имеющих целями кредита \"автомобиль\" и \"образование\".\n",
    "Более низкие проценты невозврата у должников с целями кредита \"свадьба\" (7,8%), \"недвижимость\" (7,5%), \"жилье\" (6,9%), что указывает на то, что для банка это более безопасные категории.\n",
    "Резкий переход от 6-7% к 9,3% указывает на то, что цель кредита значимо влияет на возврат кредита в срок."
   ],
   "metadata": {}
  },
  {
   "cell_type": "markdown",
   "source": [
    "### Шаг 4. Общий вывод"
   ],
   "metadata": {}
  },
  {
   "cell_type": "markdown",
   "source": [
    "* Наличие детей значимо сказывается на невозврате: наиболее безопасными клиентами для банка являются бездетные семьи (7,5%) и семьи с 3 детьми (8,2%).\n",
    "* Семейный статус значимо сказывается на возврате кредита в срок. Между женатыми и неженатыми осуществляется сильный скачок невозврата с 7,5 до 9,8 %. Наиболее низкие проценты невозврата имеют должники из категорий \"женат/замужем\" (7,5%), \"в разводе\" (7,1%), \"вдовцы\" (6,5%) и являются более безопасными категориями.\n",
    "* Определена значимая зависимость между уровнем дохода и возвратом кредита в срок. На это указывает резкий переход от 6,2% невозврата в группе с низким доходом к 8,9% в группе с доходом выше среднего. Наиболее низкие проценты невозврата имеют должники из, казалось бы, противоположных категорий \"низких\" (6,2%) и \"высоких\" (7,1%) доходов. По-видимому, эти категории доходов, являются более стабильными, в связи с чем и более безопасными для банка.\n",
    "* У должников с целями кредита \"свадьба\", \"недвижимость\", \"жилье\" более низкий процент невозврата (7,8, 7,5 и 6,9% соответственно), что указывает на то, что для банка это более безопасные категории. Резкий переход от 6-7% к 9,3% указывает на то, что цель кредита значимо влияет на возврат кредита в срок."
   ],
   "metadata": {}
  }
 ],
 "metadata": {
  "kernelspec": {
   "display_name": "Python 3",
   "language": "python",
   "name": "python3"
  },
  "language_info": {
   "codemirror_mode": {
    "name": "ipython",
    "version": 3
   },
   "file_extension": ".py",
   "mimetype": "text/x-python",
   "name": "python",
   "nbconvert_exporter": "python",
   "pygments_lexer": "ipython3",
   "version": "3.6.13"
  },
  "toc": {
   "base_numbering": 1,
   "nav_menu": {},
   "number_sections": true,
   "sideBar": true,
   "skip_h1_title": true,
   "title_cell": "Table of Contents",
   "title_sidebar": "Contents",
   "toc_cell": false,
   "toc_position": {},
   "toc_section_display": true,
   "toc_window_display": false
  }
 },
 "nbformat": 4,
 "nbformat_minor": 2
}